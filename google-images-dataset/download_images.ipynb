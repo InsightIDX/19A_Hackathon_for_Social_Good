{
 "cells": [
  {
   "cell_type": "markdown",
   "metadata": {
    "hide_input": false
   },
   "source": [
    "# Creating your own dataset from Google Images\n",
    "\n",
    "*by: Francisco Ingham and Jeremy Howard. Inspired by [Adrian Rosebrock](https://www.pyimagesearch.com/2017/12/04/how-to-create-a-deep-learning-dataset-using-google-images/)*"
   ]
  },
  {
   "cell_type": "markdown",
   "metadata": {
    "hide_input": true
   },
   "source": [
    "In this tutorial we will see how to easily create an image dataset through Google Images. **Note**: You will have to repeat these steps for any new category you want to Google (e.g once for dogs and once for cats)."
   ]
  },
  {
   "cell_type": "markdown",
   "metadata": {},
   "source": [
    "## Get a list of URLs"
   ]
  },
  {
   "cell_type": "markdown",
   "metadata": {},
   "source": [
    "### Search and scroll"
   ]
  },
  {
   "cell_type": "markdown",
   "metadata": {},
   "source": [
    "Go to [Google Images](http://images.google.com) and search for the images you are interested in. The more specific you are in your Google Search, the better the results and the less manual pruning you will have to do.\n",
    "\n",
    "Scroll down until you see a button that says 'Show more results'. All the images you scrolled past are now available to download. To get more, click on the button. Then continue scrolling until you cannot scroll anymore. The maximum number of images Google Images shows is 700."
   ]
  },
  {
   "cell_type": "markdown",
   "metadata": {},
   "source": [
    "### Download into file"
   ]
  },
  {
   "cell_type": "markdown",
   "metadata": {},
   "source": [
    "Now you must run some Javascript code in your browser which will save the URLs of all the images you want for you dataset.\n",
    "\n",
    "Press <kbd>Ctrl</kbd><kbd>Shift</kbd><kbd>J</kbd> in Windows/Linux and <kbd>Cmd</kbd><kbd>Opt</kbd><kbd>J</kbd> in Mac, and a small window the javascript 'Console' will appear. That is where you will paste the JavaScript commands.\n",
    "\n",
    "You will need to get the urls of each of the images. You can do this by running the following commands:\n",
    "\n",
    "```javascript\n",
    "urls = Array.from(document.querySelectorAll('.rg_di .rg_meta')).map(el=>JSON.parse(el.textContent).ou);\n",
    "window.open('data:text/csv;charset=utf-8,' + escape(urls.join('\\n')));\n",
    "```"
   ]
  },
  {
   "cell_type": "markdown",
   "metadata": {},
   "source": [
    "### Create directory and upload urls file into your server"
   ]
  },
  {
   "cell_type": "code",
   "execution_count": 20,
   "metadata": {
    "hide_input": false
   },
   "outputs": [],
   "source": [
    "from fastai import *\n",
    "from fastai.vision import *"
   ]
  },
  {
   "cell_type": "markdown",
   "metadata": {},
   "source": [
    "\n",
    "Choose an appropriate name for your labeled images. You can run these steps multiple times to grab different labels."
   ]
  },
  {
   "cell_type": "code",
   "execution_count": 26,
   "metadata": {},
   "outputs": [
    {
     "name": "stdout",
     "output_type": "stream",
     "text": [
      "Error [ not enough values to unpack (expected 2, got 1)\n"
     ]
    },
    {
     "data": {
      "text/html": [
       "\n",
       "    <div>\n",
       "        <style>\n",
       "            /* Turns off some styling */\n",
       "            progress {\n",
       "                /* gets rid of default border in Firefox and Opera. */\n",
       "                border: none;\n",
       "                /* Needs to be in here for Safari polyfill so background images work as expected. */\n",
       "                background-size: auto;\n",
       "            }\n",
       "            .progress-bar-interrupted, .progress-bar-interrupted::-webkit-progress-bar {\n",
       "                background: #F44336;\n",
       "            }\n",
       "        </style>\n",
       "      <progress value='660' class='' max='660', style='width:300px; height:20px; vertical-align: middle;'></progress>\n",
       "      100.00% [660/660 01:08<00:00]\n",
       "    </div>\n",
       "    "
      ],
      "text/plain": [
       "<IPython.core.display.HTML object>"
      ]
     },
     "metadata": {},
     "output_type": "display_data"
    },
    {
     "name": "stdout",
     "output_type": "stream",
     "text": [
      "Error   https://www.washingtonpost.com/resizer/3f9JR8BmdcpLhEFRmaab95wGW7w=/480x0/arc-anglerfish-washpost-prod-washpost.s3.amazonaws.com/public/VTGVXWBXOUI6TL23WUNX74ZC5E.jpg, HTTPSConnectionPool(host='www.washingtonpost.com', port=443): Read timed out. (read timeout=4)\n",
      "Error   https://intmassmedia.com/wp-content/uploads/2017/05/d366b8a7789479585efe21d0ebe4e961.jpg, HTTPSConnectionPool(host='intmassmedia.com', port=443): Max retries exceeded with url: /wp-content/uploads/2017/05/d366b8a7789479585efe21d0ebe4e961.jpg, (Caused by SSLError(SSLError(\"bad handshake: Error([('SSL routines', 'tls_process_server_certificate', 'certificate verify failed')],)\",),))\n",
      "Error   https://www.gnsnews.co.in/wp-content/uploads/2019/02/sdfsdfds-6.jpg, HTTPSConnectionPool(host='www.gnsnews.co.in', port=443): Read timed out. (read timeout=4)\n",
      "Error   https://img.washingtonpost.com/wp-apps/imrs.php?src=https://img.washingtonpost.com/rf/image_960w/2010-2019/Wires/Images/2017-05-22/Getty/AFP_OR81W.jpg&w=1484, HTTPSConnectionPool(host='img.washingtonpost.com', port=443): Read timed out. (read timeout=4)\n",
      "Error   https://upload.wikimedia.org/wikipedia/commons/thumb/c/c2/FILMADOS_ASESINOS_DE_GENESIS_CARMONA_-_GUERRA_CIVIL_EN_VENEZUELA.webm/290px--FILMADOS_ASESINOS_DE_GENESIS_CARMONA_-_GUERRA_CIVIL_EN_VENEZUELA.webm.jpg, HTTPSConnectionPool(host='upload.wikimedia.org', port=443): Read timed out. (read timeout=4)\n",
      "Error   https://upload.wikimedia.org/wikipedia/commons/thumb/9/94/Colectivo_motorcyclists_Venezuela.jpg/250px-Colectivo_motorcyclists_Venezuela.jpg, HTTPSConnectionPool(host='upload.wikimedia.org', port=443): Read timed out. (read timeout=4)\n",
      "Error   https://img.washingtonpost.com/rf/image_480w/2010-2019/WashingtonPost/2013/04/26/Foreign/Images/Venezuela_American_Detained.JPEG-0fe62-8221.jpg?uuid=JJs4Gq6hEeKphu7IN7GIiw, HTTPSConnectionPool(host='img.washingtonpost.com', port=443): Read timed out. (read timeout=4)\n",
      "Error   https://intmassmedia.com/wp-content/uploads/2017/05/a667ed876c037c524e91759fb9164b3f.jpg, HTTPSConnectionPool(host='intmassmedia.com', port=443): Max retries exceeded with url: /wp-content/uploads/2017/05/a667ed876c037c524e91759fb9164b3f.jpg, (Caused by SSLError(SSLError(\"bad handshake: Error([('SSL routines', 'tls_process_server_certificate', 'certificate verify failed')],)\",),))\n",
      "Error   https://www.gannett-cdn.com/-mm-/bf170be55cf1a02c71d19517ca84115d6a74dcbf/c=306-0-5166-3633/local/-/media/USATODAY/USATODAY/2014/02/23//1393177631000-IMG-2040.jpg?width=534&height=401&fit=crop, HTTPSConnectionPool(host='www.gannett-cdn.com', port=443): Read timed out. (read timeout=4)\n",
      "Error   https://upload.wikimedia.org/wikipedia/commons/thumb/a/ad/Marcha_Neomar_Lander_08_Venezuela_2017.jpg/150px-Marcha_Neomar_Lander_08_Venezuela_2017.jpg, HTTPSConnectionPool(host='upload.wikimedia.org', port=443): Read timed out. (read timeout=4)\n",
      "Error   https://img.washingtonpost.com/wp-apps/imrs.php?src=https://img.washingtonpost.com/blogs/worldviews/files/2017/04/05915858-1024x683.jpg&w=1484, HTTPSConnectionPool(host='img.washingtonpost.com', port=443): Read timed out. (read timeout=4)\n",
      "Error   https://img.washingtonpost.com/rf/image_480w/2010-2019/WashingtonPost/2017/04/29/Others/Images/2017-04-22/Venezuela-6.jpg?uuid=hfiI9CePEeeSjjYkU5Bg6A, HTTPSConnectionPool(host='img.washingtonpost.com', port=443): Read timed out. (read timeout=4)\n",
      "Error   https://www.ryersonian.ca/wp-content/uploads/2014/03/Featuredimage.jpg, HTTPSConnectionPool(host='www.ryersonian.ca', port=443): Max retries exceeded with url: /wp-content/uploads/2014/03/Featuredimage.jpg, (Caused by SSLError(CertificateError(\"hostname 'www.ryersonian.ca' doesn't match either of 'projetj.ca', 'ryersonian.ca'\",),))\n",
      "Error   https://www.washingtonpost.com/resizer/NuBot0ZDJtpX_qC4L-snZBWsbEs=/1484x0/arc-anglerfish-washpost-prod-washpost.s3.amazonaws.com/public/UGTMVYRZHMI6TMIL6BNCFZ2YMU.jpg, HTTPSConnectionPool(host='www.washingtonpost.com', port=443): Read timed out. (read timeout=4)\n",
      "Error   https://upload.wikimedia.org/wikipedia/commons/thumb/e/ed/Opposition_sign_Venezuela_2014.jpg/250px-Opposition_sign_Venezuela_2014.jpg, HTTPSConnectionPool(host='upload.wikimedia.org', port=443): Read timed out. (read timeout=4)\n",
      "Error ] Invalid URL ']': No schema supplied. Perhaps you meant http://]?\n",
      "Error   https://img.washingtonpost.com/wp-apps/imrs.php?src=https://img.washingtonpost.com/blogs/worldviews/files/2017/08/2014-03-06T191455Z_01_TBR01_RTRIDSP_3_VENEZUELA-PROTESTS.jpg&w=1484, HTTPSConnectionPool(host='img.washingtonpost.com', port=443): Read timed out. (read timeout=4)\n"
     ]
    }
   ],
   "source": [
    "folder = 'violent'\n",
    "file = 'violent.csv'\n",
    "\n",
    "path = Path('data/protests')\n",
    "dest = path/folder\n",
    "dest.mkdir(parents=True, exist_ok=True)\n",
    "\n",
    "download_images(path/file, dest, max_pics=700)"
   ]
  },
  {
   "cell_type": "code",
   "execution_count": 27,
   "metadata": {
    "collapsed": true
   },
   "outputs": [
    {
     "name": "stdout",
     "output_type": "stream",
     "text": [
      "Error [ not enough values to unpack (expected 2, got 1)\n"
     ]
    },
    {
     "data": {
      "text/html": [
       "\n",
       "    <div>\n",
       "        <style>\n",
       "            /* Turns off some styling */\n",
       "            progress {\n",
       "                /* gets rid of default border in Firefox and Opera. */\n",
       "                border: none;\n",
       "                /* Needs to be in here for Safari polyfill so background images work as expected. */\n",
       "                background-size: auto;\n",
       "            }\n",
       "            .progress-bar-interrupted, .progress-bar-interrupted::-webkit-progress-bar {\n",
       "                background: #F44336;\n",
       "            }\n",
       "        </style>\n",
       "      <progress value='700' class='' max='700', style='width:300px; height:20px; vertical-align: middle;'></progress>\n",
       "      100.00% [700/700 01:27<00:00]\n",
       "    </div>\n",
       "    "
      ],
      "text/plain": [
       "<IPython.core.display.HTML object>"
      ]
     },
     "metadata": {},
     "output_type": "display_data"
    },
    {
     "name": "stdout",
     "output_type": "stream",
     "text": [
      "Error   https://www.washingtonpost.com/resizer/P4lhW5WzDwkeD4QXSgplwrkUrF0=/1484x0/arc-anglerfish-washpost-prod-washpost.s3.amazonaws.com/public/PGI4J2BZGII6TKVONE3EWLWRG4.jpg, HTTPSConnectionPool(host='www.washingtonpost.com', port=443): Read timed out. (read timeout=4)\n",
      "Error   https://upload.wikimedia.org/wikipedia/commons/thumb/e/e1/Marcha_hacia_el_Palacio_de_Justicia_de_Maracaibo_-_Venezuela_11.jpg/250px-Marcha_hacia_el_Palacio_de_Justicia_de_Maracaibo_-_Venezuela_11.jpg, HTTPSConnectionPool(host='upload.wikimedia.org', port=443): Read timed out. (read timeout=4)\n",
      "Error   https://upload.wikimedia.org/wikipedia/commons/thumb/2/28/2014_Venezuelan_Protests_%2812F%29.jpg/300px-2014_Venezuelan_Protests_%2812F%29.jpg, HTTPSConnectionPool(host='upload.wikimedia.org', port=443): Read timed out. (read timeout=4)\n",
      "Error   https://news.mb.com.ph/wp-content/uploads/2019/03/AP19063698988477.jpg, HTTPSConnectionPool(host='news.mb.com.ph', port=443): Read timed out. (read timeout=4)\n",
      "Error   https://img.washingtonpost.com/wp-apps/imrs.php?src=https://img.washingtonpost.com/rf/image_960w/2010-2019/WashingtonPost/2017/06/03/Others/Images/2017-05-30/Protest_story-4.JPG&w=1484, HTTPSConnectionPool(host='img.washingtonpost.com', port=443): Read timed out. (read timeout=4)\n",
      "Error   https://www.aljazeera.com/mritems/imagecache/mbdxxlarge/mritems/Images/2019/3/8/b1f46795e8c740c9aabba95d38c37473_18.jpg, HTTPSConnectionPool(host='www.aljazeera.com', port=443): Read timed out. (read timeout=4)\n",
      "Error   https://cdnuploads.aa.com.tr/uploads/Contents/2019/03/05/thumbs_b_c_160cb3c2a373f9ebcd9b81f10065e5e7.jpg?v=102240, HTTPSConnectionPool(host='cdnuploads.aa.com.tr', port=443): Read timed out. (read timeout=4)\n",
      "Error   https://upload.wikimedia.org/wikipedia/commons/thumb/a/aa/March_of_Empty_Pots_24_January_2015.jpg/250px-March_of_Empty_Pots_24_January_2015.jpg, HTTPSConnectionPool(host='upload.wikimedia.org', port=443): Read timed out. (read timeout=4)\n",
      "Error   https://www.washingtonpost.com/resizer/X5ehT_qZQ0yw-P56MloydR3yenU=/1484x0/arc-anglerfish-washpost-prod-washpost.s3.amazonaws.com/public/MH5FFAB55YI6TIGTCIIOLCUUZ4.jpg, HTTPSConnectionPool(host='www.washingtonpost.com', port=443): Read timed out. (read timeout=4)\n",
      "Error   https://cdn.primedia.co.za/primedia-broadcasting/image/upload/c_fill,h_289,w_463/jvtoiofklnsaje00lzfk, HTTPSConnectionPool(host='cdn.primedia.co.za', port=443): Max retries exceeded with url: /primedia-broadcasting/image/upload/c_fill,h_289,w_463/jvtoiofklnsaje00lzfk, (Caused by SSLError(SSLError(\"bad handshake: Error([('SSL routines', 'tls_process_server_certificate', 'certificate verify failed')],)\",),))\n",
      "Error   https://upload.wikimedia.org/wikipedia/commons/thumb/e/e4/Mother_of_All_Marches_-_Holding_Flag.jpg/320px-Mother_of_All_Marches_-_Holding_Flag.jpg, HTTPSConnectionPool(host='upload.wikimedia.org', port=443): Read timed out. (read timeout=4)\n",
      "Error   https://ep01.epimg.net/elpais/imagenes/2017/05/10/inenglish/1494416078_509229_1494416227_noticia_normal.jpg, HTTPSConnectionPool(host='ep01.epimg.net', port=443): Read timed out. (read timeout=4)\n",
      "Error   https://www.washingtonpost.com/resizer/XU94E0CDZ1BsGnWPILmNVhZ10Ts=/1484x0/arc-anglerfish-washpost-prod-washpost.s3.amazonaws.com/public/JHUR75RYRYI6TMIL6BNCFZ2YMU.jpg, HTTPSConnectionPool(host='www.washingtonpost.com', port=443): Read timed out. (read timeout=4)\n",
      "Error   https://upload.wikimedia.org/wikipedia/commons/thumb/0/06/Mother_of_All_Marches_%28cropped%29.jpg/149px-Mother_of_All_Marches_%28cropped%29.jpg, HTTPSConnectionPool(host='upload.wikimedia.org', port=443): Read timed out. (read timeout=4)\n",
      "Error   https://static.pulse.ng/img/world/origs6565295/7709725183-w900-h600/2ecbfa6ba506ff2dddc19776573d8abe3eea6dba.jpg, HTTPSConnectionPool(host='static.pulse.ng', port=443): Max retries exceeded with url: /img/world/origs6565295/7709725183-w900-h600/2ecbfa6ba506ff2dddc19776573d8abe3eea6dba.jpg, (Caused by NewConnectionError('<urllib3.connection.VerifiedHTTPSConnection object at 0x1a1d35c8d0>: Failed to establish a new connection: [Errno 8] nodename nor servname provided, or not known',))\n",
      "Error   https://www.sankhipta.com/wp-content/uploads/2019/02/Venezuela.jpg, HTTPSConnectionPool(host='www.sankhipta.com', port=443): Read timed out. (read timeout=4)\n",
      "Error   https://www.washingtonpost.com/resizer/BkYGSiH10B-MCRz9xYCIG8F9V9M=/1484x0/arc-anglerfish-washpost-prod-washpost.s3.amazonaws.com/public/3MZLV4BBTYI6TJ2ZFOCUDO56EA.jpg, HTTPSConnectionPool(host='www.washingtonpost.com', port=443): Read timed out. (read timeout=4)\n",
      "Error   https://www.aljazeera.com/mritems/imagecache/mbdxxlarge/mritems/Images/2017/11/20/1735dac1aa984514a80b1f21cbae862c_18.jpg, HTTPSConnectionPool(host='www.aljazeera.com', port=443): Read timed out. (read timeout=4)\n",
      "Error   https://upload.wikimedia.org/wikipedia/commons/thumb/0/03/23_November_2014_Venezuela_protest_3.jpg/250px-23_November_2014_Venezuela_protest_3.jpg, HTTPSConnectionPool(host='upload.wikimedia.org', port=443): Read timed out. (read timeout=4)\n",
      "Error   http://vipmedia.globalnews.ca/2014/03/venezuela-protests.jpg?w=720, HTTPConnectionPool(host='vipmedia.globalnews.ca', port=80): Max retries exceeded with url: /2014/03/venezuela-protests.jpg?w=720, (Caused by NewConnectionError('<urllib3.connection.HTTPConnection object at 0x1a1d643438>: Failed to establish a new connection: [Errno 8] nodename nor servname provided, or not known',))\n",
      "Error   https://i2.wp.com/www.cpcml.ca/images2014/LatAmCaribbean/Venezuela/140222-VancouverVenezuelaSolidarityDemo-FrenteparalaDefensaHugoChavez-02.jpg, HTTPSConnectionPool(host='i2.wp.com', port=443): Read timed out. (read timeout=4)\n",
      "Error   https://cdnuploads.aa.com.tr/uploads/Contents/2019/02/09/thumbs_b_c_1c6fc9c1e9f484e56735d0cafe1b6a54.jpg?v=125514, HTTPSConnectionPool(host='cdnuploads.aa.com.tr', port=443): Read timed out. (read timeout=4)\n",
      "Error   http://latest.gla.news/wp-content/uploads/2017/05/PHOTOS-From-Caracas-to-Miami-Over-200000-Venezuelans-Mark-Day-50-of-Protests.jpg, HTTPConnectionPool(host='latest.gla.news', port=80): Max retries exceeded with url: /wp-content/uploads/2017/05/PHOTOS-From-Caracas-to-Miami-Over-200000-Venezuelans-Mark-Day-50-of-Protests.jpg, (Caused by ReadTimeoutError(\"HTTPConnectionPool(host='latest.gla.news', port=80): Read timed out. (read timeout=4)\",))\n",
      "Error   http://www.xinhuanet.com/english/2016-08/22/CmxmseE010001_20160822_MXMFN0A002_11n.jpg, HTTPConnectionPool(host='www.xinhuanet.com', port=80): Max retries exceeded with url: /english/2016-08/22/CmxmseE010001_20160822_MXMFN0A002_11n.jpg, (Caused by ReadTimeoutError(\"HTTPConnectionPool(host='www.xinhuanet.com', port=80): Read timed out. (read timeout=4)\",))\n",
      "Error   https://i0.wp.com/zionistreport.com/wp-content/uploads/2016/05/Venezuela-.jpg?fit=601%2C431&ssl=1, HTTPSConnectionPool(host='i0.wp.com', port=443): Read timed out. (read timeout=4)\n",
      "Error   https://img.washingtonpost.com/wp-apps/imrs.php?src=https://img.washingtonpost.com/rf/image_960w/2010-2019/Wires/Images/2017-05-22/Getty/AFP_OR81W.jpg&w=1484, HTTPSConnectionPool(host='img.washingtonpost.com', port=443): Read timed out. (read timeout=4)\n",
      "Error   https://img.washingtonpost.com/wp-apps/imrs.php?src=https://img.washingtonpost.com/rf/image_960w/2010-2019/Wires/Videos/201705/Reuters/Images/2017-05-30T030912Z_1_OV6J1CGOB_RTRMADC_0_VENEZUELA-POLITICS-MADURO.jpg&w=1484, HTTPSConnectionPool(host='img.washingtonpost.com', port=443): Read timed out. (read timeout=4)\n",
      "Error   https://img.washingtonpost.com/blogs/worldviews/files/2017/05/AFP_OO1PP-1024x682.jpg, HTTPSConnectionPool(host='img.washingtonpost.com', port=443): Read timed out. (read timeout=4)\n",
      "Error   https://img.washingtonpost.com/blogs/worldviews/files/2017/05/Venezuela_Political_Crisis_32428-44d8c-1024x683.jpg, HTTPSConnectionPool(host='img.washingtonpost.com', port=443): Read timed out. (read timeout=4)\n"
     ]
    }
   ],
   "source": [
    "folder = 'peaceful'\n",
    "file = 'peaceful.csv'\n",
    "\n",
    "path = Path('data/protests')\n",
    "dest = path/folder\n",
    "dest.mkdir(parents=True, exist_ok=True)\n",
    "\n",
    "download_images(path/file, dest, max_pics=700)"
   ]
  },
  {
   "cell_type": "markdown",
   "metadata": {},
   "source": [
    "## Download images"
   ]
  },
  {
   "cell_type": "markdown",
   "metadata": {},
   "source": [
    "Now you will need to download you images from their respective urls.\n",
    "\n",
    "fast.ai has a function that allows you to do just that. You just have to specify the urls filename and the destination folder and this function will download and save all images than can be opened. If they have some problem in being opened, they will not be saved.\n",
    "\n",
    "Let's download our images! Notice you can choose a maximum number of images to be downloaded. In this case we will not download all the urls."
   ]
  },
  {
   "cell_type": "markdown",
   "metadata": {},
   "source": [
    "Good! Let's take a look at some of our pictures then."
   ]
  },
  {
   "cell_type": "code",
   "execution_count": 28,
   "metadata": {},
   "outputs": [],
   "source": [
    "classes = ['violent', 'peaceful']"
   ]
  },
  {
   "cell_type": "code",
   "execution_count": 48,
   "metadata": {},
   "outputs": [
    {
     "name": "stdout",
     "output_type": "stream",
     "text": [
      "violent\n"
     ]
    },
    {
     "data": {
      "text/html": [
       "\n",
       "    <div>\n",
       "        <style>\n",
       "            /* Turns off some styling */\n",
       "            progress {\n",
       "                /* gets rid of default border in Firefox and Opera. */\n",
       "                border: none;\n",
       "                /* Needs to be in here for Safari polyfill so background images work as expected. */\n",
       "                background-size: auto;\n",
       "            }\n",
       "            .progress-bar-interrupted, .progress-bar-interrupted::-webkit-progress-bar {\n",
       "                background: #F44336;\n",
       "            }\n",
       "        </style>\n",
       "      <progress value='979' class='' max='979', style='width:300px; height:20px; vertical-align: middle;'></progress>\n",
       "      100.00% [979/979 00:08<00:00]\n",
       "    </div>\n",
       "    "
      ],
      "text/plain": [
       "<IPython.core.display.HTML object>"
      ]
     },
     "metadata": {},
     "output_type": "display_data"
    },
    {
     "name": "stdout",
     "output_type": "stream",
     "text": [
      "image file could not be identified because WEBP support not installed\n",
      "cannot identify image file <_io.BufferedReader name='data/protests/violent/321. madre-de-todas-las-marchas-reprimida-por-gnb-la-victoria-aragua-abril19-2017-a.jpg'>\n",
      "cannot identify image file <_io.BufferedReader name='data/protests/violent/293. madre-de-todas-las-marchas-reprimida-por-gnb-la-victoria-aragua-abril19-2017-b.jpg'>\n",
      "image file could not be identified because WEBP support not installed\n",
      "image file could not be identified because WEBP support not installed\n",
      "image file could not be identified because WEBP support not installed\n",
      "image file could not be identified because WEBP support not installed\n",
      "image file could not be identified because WEBP support not installed\n",
      "image file could not be identified because WEBP support not installed\n",
      "image file could not be identified because WEBP support not installed\n",
      "cannot identify image file <_io.BufferedReader name='data/protests/violent/145. venezuela-libre-1550885165.jpg'>\n"
     ]
    },
    {
     "name": "stderr",
     "output_type": "stream",
     "text": [
      "/Users/mari/anaconda2/envs/fastai/lib/python3.6/site-packages/PIL/Image.py:966: UserWarning: Palette images with Transparency   expressed in bytes should be converted to RGBA images\n",
      "  'to RGBA images')\n"
     ]
    },
    {
     "name": "stdout",
     "output_type": "stream",
     "text": [
      "cannot identify image file <_io.BufferedReader name='data/protests/violent/208. juan-guaido-2-1550942375.jpg'>\n",
      "image file could not be identified because WEBP support not installed\n",
      "peaceful\n"
     ]
    },
    {
     "data": {
      "text/html": [
       "\n",
       "    <div>\n",
       "        <style>\n",
       "            /* Turns off some styling */\n",
       "            progress {\n",
       "                /* gets rid of default border in Firefox and Opera. */\n",
       "                border: none;\n",
       "                /* Needs to be in here for Safari polyfill so background images work as expected. */\n",
       "                background-size: auto;\n",
       "            }\n",
       "            .progress-bar-interrupted, .progress-bar-interrupted::-webkit-progress-bar {\n",
       "                background: #F44336;\n",
       "            }\n",
       "        </style>\n",
       "      <progress value='966' class='' max='966', style='width:300px; height:20px; vertical-align: middle;'></progress>\n",
       "      100.00% [966/966 00:09<00:00]\n",
       "    </div>\n",
       "    "
      ],
      "text/plain": [
       "<IPython.core.display.HTML object>"
      ]
     },
     "metadata": {},
     "output_type": "display_data"
    },
    {
     "name": "stderr",
     "output_type": "stream",
     "text": [
      "/Users/mari/anaconda2/envs/fastai/lib/python3.6/site-packages/PIL/Image.py:1019: UserWarning: Couldn't allocate palette entry for transparency\n",
      "  \"for transparency\")\n"
     ]
    },
    {
     "name": "stdout",
     "output_type": "stream",
     "text": [
      "image file could not be identified because WEBP support not installed\n",
      "image file could not be identified because WEBP support not installed\n",
      "image file could not be identified because WEBP support not installed\n",
      "cannot identify image file <_io.BufferedReader name='data/protests/peaceful/287. madre-de-todas-las-marchas-san-fernando-de-apure-abril19-2017-a.jpg'>\n",
      "image file could not be identified because WEBP support not installed\n",
      "image file could not be identified because WEBP support not installed\n",
      "image file could not be identified because WEBP support not installed\n",
      "image file could not be identified because WEBP support not installed\n",
      "cannot identify image file <_io.BufferedReader name='data/protests/peaceful/86. ?media_id=1761199057230227.jpg'>\n",
      "image file could not be identified because WEBP support not installed\n",
      "image file could not be identified because WEBP support not installed\n",
      "cannot identify image file <_io.BufferedReader name='data/protests/peaceful/267. madre-de-todas-las-marchas-san-fernando-de-apure-abril19-2017-c.jpg'>\n",
      "image file could not be identified because WEBP support not installed\n",
      "cannot identify image file <_io.BufferedReader name='data/protests/peaceful/319. m-dicso-en-venezuela-1549989091.jpg'>\n",
      "image file could not be identified because WEBP support not installed\n"
     ]
    }
   ],
   "source": [
    "for c in classes:\n",
    "    print(c)\n",
    "    verify_images(path/c, delete=True, max_workers=8)"
   ]
  }
 ],
 "metadata": {
  "_draft": {
   "nbviewer_url": "https://gist.github.com/13492143ce5543c39064b571f9c6ddda"
  },
  "gist": {
   "data": {
    "description": "dl1/Untitled.ipynb",
    "public": true
   },
   "id": "13492143ce5543c39064b571f9c6ddda"
  },
  "kernelspec": {
   "display_name": "Python [conda env:fastai]",
   "language": "python",
   "name": "conda-env-fastai-py"
  },
  "language_info": {
   "codemirror_mode": {
    "name": "ipython",
    "version": 3
   },
   "file_extension": ".py",
   "mimetype": "text/x-python",
   "name": "python",
   "nbconvert_exporter": "python",
   "pygments_lexer": "ipython3",
   "version": "3.6.8"
  },
  "toc": {
   "base_numbering": 1,
   "nav_menu": {},
   "number_sections": false,
   "sideBar": true,
   "skip_h1_title": false,
   "title_cell": "Table of Contents",
   "title_sidebar": "Contents",
   "toc_cell": false,
   "toc_position": {},
   "toc_section_display": true,
   "toc_window_display": false
  }
 },
 "nbformat": 4,
 "nbformat_minor": 2
}
