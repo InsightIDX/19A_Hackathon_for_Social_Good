{
 "cells": [
  {
   "cell_type": "code",
   "execution_count": 1,
   "metadata": {
    "collapsed": true
   },
   "outputs": [],
   "source": [
    "import pandas as pd\n",
    "import bs4 as bs \n",
    "import numpy as np\n",
    "import os\n",
    "from PIL import Image\n",
    "import codecs, json\n",
    "import pandas as pd\n",
    "import requests\n",
    "# pprint is pretty print (formats the JSON)\n",
    "from pprint import pprint\n",
    "from IPython.display import HTML\n",
    "import json\n",
    "import matplotlib.pyplot as plt"
   ]
  },
  {
   "cell_type": "code",
   "execution_count": 2,
   "metadata": {
    "collapsed": true
   },
   "outputs": [],
   "source": [
    "hashtag = \"#23Feb\"\n",
    "start = \"2019-02-23\"\n",
    "end = \"2019-02-24\""
   ]
  },
  {
   "cell_type": "code",
   "execution_count": 3,
   "metadata": {},
   "outputs": [],
   "source": [
    "import got.manager.TweetCriteria \n",
    "import got.manager.TweetManager\n",
    "\n",
    "tweetCriteria = got.manager.TweetCriteria().setQuerySearch(hashtag).setSince(start).setUntil(end).setTopTweets(True)#.setMaxTweets(100)\n",
    "tweets = got.manager.TweetManager.getTweets(tweetCriteria)"
   ]
  },
  {
   "cell_type": "code",
   "execution_count": 4,
   "metadata": {},
   "outputs": [
    {
     "data": {
      "text/plain": [
       "762"
      ]
     },
     "execution_count": 4,
     "metadata": {},
     "output_type": "execute_result"
    }
   ],
   "source": [
    "len(tweets)"
   ]
  },
  {
   "cell_type": "code",
   "execution_count": 67,
   "metadata": {
    "collapsed": true
   },
   "outputs": [],
   "source": [
    "df = pd.DataFrame()\n",
    "df['username'] = ''\n",
    "df['date'] = ''\n",
    "df['retweets'] = '' \n",
    "df['favorites'] = ''\n",
    "df['text'] = ''\n",
    "df['geo'] = ''\n",
    "df['mentions'] = ''\n",
    "df['hashtags'] = ''\n",
    "df['id'] = ''\n",
    "df['permalink'] = ''"
   ]
  },
  {
   "cell_type": "code",
   "execution_count": 68,
   "metadata": {
    "collapsed": true
   },
   "outputs": [],
   "source": [
    "# put tweets in data frame\n",
    "idx = 0\n",
    "for t in tweets:\n",
    "  \n",
    "    df.loc[idx,'username'] = t.username\n",
    "    df.loc[idx,'date'] = t.date.strftime(\"%Y-%m-%d %H:%M\")\n",
    "    df.loc[idx,'retweets'] = t.retweets\n",
    "    df.loc[idx,'favorites'] = t.favorites\n",
    "    df.loc[idx,'text'] = t.text\n",
    "    df.loc[idx,'geo'] = t.geo\n",
    "    df.loc[idx,'mentions'] = t.mentions\n",
    "    df.loc[idx,'hashtags'] = t.hashtags\n",
    "    df.loc[idx,'id'] = t.id\n",
    "    df.loc[idx,'permalink'] = t.permalink\n",
    "    idx += 1"
   ]
  },
  {
   "cell_type": "code",
   "execution_count": 69,
   "metadata": {
    "collapsed": true
   },
   "outputs": [],
   "source": [
    "def compile_doc(df):\n",
    "    id_count = 0\n",
    "    documents = {'documents': []}\n",
    "    for text in df['text']:\n",
    "    \n",
    "        documents['documents'].append({'id': '{}'.format(id_count), 'language': 'es', 'text': text})\n",
    "        id_count += 1\n",
    "    \n",
    "    return documents\n",
    "\n",
    "\n",
    "documents = compile_doc(df)"
   ]
  },
  {
   "cell_type": "code",
   "execution_count": 70,
   "metadata": {
    "collapsed": true
   },
   "outputs": [],
   "source": [
    "subscription_key = 'e41c34b3bcf841d0859d6aba9e8e1494'\n",
    "assert subscription_key\n",
    "text_analytics_base_url = \"https://westcentralus.api.cognitive.microsoft.com/text/analytics/v2.1/\"\n",
    "language_api_url = text_analytics_base_url + \"languages\"\n",
    "sentiment_api_url = text_analytics_base_url + \"sentiment\"\n",
    "\n",
    "headers   = {\"Ocp-Apim-Subscription-Key\": subscription_key}\n",
    "response  = requests.post(sentiment_api_url, headers=headers, json=documents)\n",
    "sentiments = response.json()"
   ]
  },
  {
   "cell_type": "code",
   "execution_count": 71,
   "metadata": {
    "collapsed": true
   },
   "outputs": [],
   "source": [
    "df['MS_sentiment'] = ''\n",
    "idx = 0\n",
    "for entry in sentiments['documents']:\n",
    "    \n",
    "    df.loc[idx,'sentiment'] = entry['score']\n",
    "    idx += 1"
   ]
  },
  {
   "cell_type": "code",
   "execution_count": 72,
   "metadata": {
    "collapsed": true
   },
   "outputs": [],
   "source": [
    "# change date to datetime object\n",
    "df['date'] = pd.to_datetime(df.date)"
   ]
  },
  {
   "cell_type": "code",
   "execution_count": 84,
   "metadata": {
    "collapsed": true
   },
   "outputs": [],
   "source": [
    "df = df.reset_index()"
   ]
  },
  {
   "cell_type": "code",
   "execution_count": 85,
   "metadata": {},
   "outputs": [
    {
     "data": {
      "image/png": "[encoded data removed]",
      "text/plain": [
       "<matplotlib.figure.Figure at 0x113cd6750>"
      ]
     },
     "metadata": {},
     "output_type": "display_data"
    }
   ],
   "source": [
    "df = df.set_index('date')\n",
    "avg_sent_per_day = df.sentiment.resample('h').mean()\n",
    "count_sent_per_day = df.sentiment.resample('h').count()\n",
    "avg_sent_per_day.name = \"Mean\"\n",
    "count_sent_per_day.name = \"Count\"\n",
    "avg_sent_per_day.plot(color = 'blue', grid=False)\n",
    "plt.title(hashtag + ' ' + 'sentiment and tweet count over time')\n",
    "plt.legend(loc='upper left')\n",
    "plt.xlabel('Hour')\n",
    "count_sent_per_day.plot(color='red',grid=False,secondary_y=True)\n",
    "plt.legend(loc='upper right')\n",
    "plt.show()"
   ]
  }
 ],
 "metadata": {
  "kernelspec": {
   "display_name": "Python 2",
   "language": "python",
   "name": "python2"
  },
  "language_info": {
   "codemirror_mode": {
    "name": "ipython",
    "version": 2
   },
   "file_extension": ".py",
   "mimetype": "text/x-python",
   "name": "python",
   "nbconvert_exporter": "python",
   "pygments_lexer": "ipython2",
   "version": "2.7.13"
  }
 },
 "nbformat": 4,
 "nbformat_minor": 2
}
