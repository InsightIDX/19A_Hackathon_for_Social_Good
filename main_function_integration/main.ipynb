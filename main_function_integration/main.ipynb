{
 "cells": [
  {
   "cell_type": "code",
   "execution_count": null,
   "metadata": {},
   "outputs": [],
   "source": [
    "### user input ###\n",
    "hashtag = '#2May'         \n",
    "time_period = 0.05 # hours   "
   ]
  },
  {
   "cell_type": "code",
   "execution_count": 1,
   "metadata": {},
   "outputs": [
    {
     "name": "stdout",
     "output_type": "stream",
     "text": [
      "Found existing data\n",
      "not_new_tweets\n"
     ]
    }
   ],
   "source": [
    "# run the script to get the tweets\n",
    "\n",
    "import get_tweets  \n",
    "filename = get_tweets.get_recent_tweets(hashtag, time_period)"
   ]
  },
  {
   "cell_type": "code",
   "execution_count": 4,
   "metadata": {},
   "outputs": [
    {
     "name": "stdout",
     "output_type": "stream",
     "text": [
      "https://westcentralus.api.cognitive.microsoft.com/text/analytics/v2.1/languages\n",
      "https://westcentralus.api.cognitive.microsoft.com/text/analytics/v2.1/sentiment\n"
     ]
    },
    {
     "name": "stderr",
     "output_type": "stream",
     "text": [
      "/Users/camilletoarmino/Google Drive/19A_Hackathon_for_Social_Good/main_function_integration/get_sentiment.py:119: UserWarning: This pattern has match groups. To actually get the groups, use str.extract.\n",
      "  tweets = tweets[tweets['clean_text'].str.contains('([a-zA-Z]+)', regex=True)]\n"
     ]
    }
   ],
   "source": [
    "# run the script to get the sentiment score\n",
    "\n",
    "import get_sentiment\n",
    "df = get_sentiment.score_sentiment(filename)"
   ]
  },
  {
   "cell_type": "code",
   "execution_count": null,
   "metadata": {},
   "outputs": [],
   "source": []
  }
 ],
 "metadata": {
  "kernelspec": {
   "display_name": "Python 3",
   "language": "python",
   "name": "python3"
  },
  "language_info": {
   "codemirror_mode": {
    "name": "ipython",
    "version": 3
   },
   "file_extension": ".py",
   "mimetype": "text/x-python",
   "name": "python",
   "nbconvert_exporter": "python",
   "pygments_lexer": "ipython3",
   "version": "3.7.1"
  }
 },
 "nbformat": 4,
 "nbformat_minor": 2
}
