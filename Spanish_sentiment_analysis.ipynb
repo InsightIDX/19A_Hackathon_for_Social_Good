{
 "cells": [
  {
   "cell_type": "code",
   "execution_count": 2,
   "metadata": {},
   "outputs": [],
   "source": [
    "import pandas as pd\n",
    "import matplotlib.pyplot as plt\n",
    "\n",
    "plt.style.use('fivethirtyeight')\n",
    "plt.rcParams['figure.figsize'] = (10, 8)\n",
    "plt.rcParams['axes.labelsize'] = 15\n",
    "plt.rcParams['xtick.labelsize'] = 12\n",
    "plt.rcParams['ytick.labelsize'] = 12\n",
    "plt.rcParams['text.color'] = 'k'\n",
    "\n",
    "from classifier import *"
   ]
  },
  {
   "cell_type": "code",
   "execution_count": 3,
   "metadata": {},
   "outputs": [],
   "source": [
    "tweets = pd.read_csv('output_got_mod.csv', sep=';')"
   ]
  },
  {
   "cell_type": "code",
   "execution_count": 4,
   "metadata": {},
   "outputs": [
    {
     "data": {
      "text/plain": [
       "(196, 10)"
      ]
     },
     "execution_count": 4,
     "metadata": {},
     "output_type": "execute_result"
    }
   ],
   "source": [
    "tweets.shape"
   ]
  },
  {
   "cell_type": "code",
   "execution_count": 5,
   "metadata": {},
   "outputs": [
    {
     "data": {
      "text/plain": [
       "0    Si así estuvo el día de hoy, como sera mañana ...\n",
       "1    Esta noche será larga para los uniformados y d...\n",
       "2    Pampatar  T-shirt Dale like Etiqueta a un amig...\n",
       "3    El día de mañana # 23F será un día muy movido ...\n",
       "4    Venezuela y sus contradicciones, nunca aprendi...\n",
       "Name: text, dtype: object"
      ]
     },
     "execution_count": 5,
     "metadata": {},
     "output_type": "execute_result"
    }
   ],
   "source": [
    "tweets['text'].head()"
   ]
  },
  {
   "cell_type": "code",
   "execution_count": 6,
   "metadata": {},
   "outputs": [],
   "source": [
    "clf = SentimentClassifier()"
   ]
  },
  {
   "cell_type": "code",
   "execution_count": 7,
   "metadata": {},
   "outputs": [
    {
     "name": "stdout",
     "output_type": "stream",
     "text": [
      "Esta muy buena esa pelicula ==> 0.931\n",
      "Esta pelicula es muy mala ==> 0.213\n"
     ]
    }
   ],
   "source": [
    "# This movie is very good\n",
    "x = \"Esta muy buena esa pelicula\"\n",
    "\n",
    "# This movie is very bad\n",
    "x0 = 'Esta pelicula es muy mala'\n",
    "\n",
    "print('{} ==> {:.3f}'.format(x, clf.predict(x)))\n",
    "print('{} ==> {:.3f}'.format(x0, clf.predict(x0)))"
   ]
  },
  {
   "cell_type": "code",
   "execution_count": 8,
   "metadata": {},
   "outputs": [
    {
     "name": "stdout",
     "output_type": "stream",
     "text": [
      "Esta pelicula no fue buena ==> 0.016\n"
     ]
    }
   ],
   "source": [
    "#How does it do with more nuance: This movie was not good\n",
    "\n",
    "x= 'Esta pelicula no fue buena'\n",
    "print('{} ==> {:.3f}'.format(x, clf.predict(x)))"
   ]
  },
  {
   "cell_type": "code",
   "execution_count": 9,
   "metadata": {},
   "outputs": [],
   "source": [
    "tweets['sentiment'] = tweets['text'].apply(lambda x: clf.predict(x))"
   ]
  },
  {
   "cell_type": "code",
   "execution_count": 10,
   "metadata": {},
   "outputs": [
    {
     "data": {
      "text/html": [
       "<div>\n",
       "<style scoped>\n",
       "    .dataframe tbody tr th:only-of-type {\n",
       "        vertical-align: middle;\n",
       "    }\n",
       "\n",
       "    .dataframe tbody tr th {\n",
       "        vertical-align: top;\n",
       "    }\n",
       "\n",
       "    .dataframe thead th {\n",
       "        text-align: right;\n",
       "    }\n",
       "</style>\n",
       "<table border=\"1\" class=\"dataframe\">\n",
       "  <thead>\n",
       "    <tr style=\"text-align: right;\">\n",
       "      <th></th>\n",
       "      <th>username</th>\n",
       "      <th>date</th>\n",
       "      <th>retweets</th>\n",
       "      <th>favorites</th>\n",
       "      <th>text</th>\n",
       "      <th>geo</th>\n",
       "      <th>mentions</th>\n",
       "      <th>hashtags</th>\n",
       "      <th>id</th>\n",
       "      <th>permalink</th>\n",
       "      <th>sentiment</th>\n",
       "    </tr>\n",
       "  </thead>\n",
       "  <tbody>\n",
       "    <tr>\n",
       "      <th>0</th>\n",
       "      <td>fran0506</td>\n",
       "      <td>2019-02-22 18:57</td>\n",
       "      <td>0</td>\n",
       "      <td>1</td>\n",
       "      <td>Si así estuvo el día de hoy, como sera mañana ...</td>\n",
       "      <td>NaN</td>\n",
       "      <td>NaN</td>\n",
       "      <td># #</td>\n",
       "      <td>1099095851434151936</td>\n",
       "      <td>https://twitter.com/fran0506/status/1099095851...</td>\n",
       "      <td>0.635764</td>\n",
       "    </tr>\n",
       "    <tr>\n",
       "      <th>1</th>\n",
       "      <td>antjgo</td>\n",
       "      <td>2019-02-22 18:46</td>\n",
       "      <td>0</td>\n",
       "      <td>2</td>\n",
       "      <td>Esta noche será larga para los uniformados y d...</td>\n",
       "      <td>NaN</td>\n",
       "      <td>@</td>\n",
       "      <td># # # #</td>\n",
       "      <td>1099093000213463040</td>\n",
       "      <td>https://twitter.com/antjgo/status/109909300021...</td>\n",
       "      <td>0.576211</td>\n",
       "    </tr>\n",
       "    <tr>\n",
       "      <th>2</th>\n",
       "      <td>liarclothingve</td>\n",
       "      <td>2019-02-22 18:40</td>\n",
       "      <td>0</td>\n",
       "      <td>0</td>\n",
       "      <td>Pampatar  T-shirt Dale like Etiqueta a un amig...</td>\n",
       "      <td>NaN</td>\n",
       "      <td>NaN</td>\n",
       "      <td># # # # # # # # # # # # # # # # # # #</td>\n",
       "      <td>1099091668387672065</td>\n",
       "      <td>https://twitter.com/liarclothingve/status/1099...</td>\n",
       "      <td>0.329231</td>\n",
       "    </tr>\n",
       "    <tr>\n",
       "      <th>3</th>\n",
       "      <td>JesusMendozaJ</td>\n",
       "      <td>2019-02-22 18:39</td>\n",
       "      <td>0</td>\n",
       "      <td>0</td>\n",
       "      <td>El día de mañana # 23F será un día muy movido ...</td>\n",
       "      <td>NaN</td>\n",
       "      <td>NaN</td>\n",
       "      <td># # # # #</td>\n",
       "      <td>1099091306717040640</td>\n",
       "      <td>https://twitter.com/JesusMendozaJ/status/10990...</td>\n",
       "      <td>0.685189</td>\n",
       "    </tr>\n",
       "    <tr>\n",
       "      <th>4</th>\n",
       "      <td>csancheznieto</td>\n",
       "      <td>2019-02-22 18:15</td>\n",
       "      <td>1</td>\n",
       "      <td>5</td>\n",
       "      <td>Venezuela y sus contradicciones, nunca aprendi...</td>\n",
       "      <td>NaN</td>\n",
       "      <td>@VenezuelaAidLive</td>\n",
       "      <td># #</td>\n",
       "      <td>1099085399505330176</td>\n",
       "      <td>https://twitter.com/csancheznieto/status/10990...</td>\n",
       "      <td>0.062046</td>\n",
       "    </tr>\n",
       "  </tbody>\n",
       "</table>\n",
       "</div>"
      ],
      "text/plain": [
       "         username              date  retweets  favorites  \\\n",
       "0        fran0506  2019-02-22 18:57         0          1   \n",
       "1          antjgo  2019-02-22 18:46         0          2   \n",
       "2  liarclothingve  2019-02-22 18:40         0          0   \n",
       "3   JesusMendozaJ  2019-02-22 18:39         0          0   \n",
       "4   csancheznieto  2019-02-22 18:15         1          5   \n",
       "\n",
       "                                                text  geo           mentions  \\\n",
       "0  Si así estuvo el día de hoy, como sera mañana ...  NaN                NaN   \n",
       "1  Esta noche será larga para los uniformados y d...  NaN                  @   \n",
       "2  Pampatar  T-shirt Dale like Etiqueta a un amig...  NaN                NaN   \n",
       "3  El día de mañana # 23F será un día muy movido ...  NaN                NaN   \n",
       "4  Venezuela y sus contradicciones, nunca aprendi...  NaN  @VenezuelaAidLive   \n",
       "\n",
       "                                hashtags                   id  \\\n",
       "0                                    # #  1099095851434151936   \n",
       "1                                # # # #  1099093000213463040   \n",
       "2  # # # # # # # # # # # # # # # # # # #  1099091668387672065   \n",
       "3                              # # # # #  1099091306717040640   \n",
       "4                                    # #  1099085399505330176   \n",
       "\n",
       "                                           permalink  sentiment  \n",
       "0  https://twitter.com/fran0506/status/1099095851...   0.635764  \n",
       "1  https://twitter.com/antjgo/status/109909300021...   0.576211  \n",
       "2  https://twitter.com/liarclothingve/status/1099...   0.329231  \n",
       "3  https://twitter.com/JesusMendozaJ/status/10990...   0.685189  \n",
       "4  https://twitter.com/csancheznieto/status/10990...   0.062046  "
      ]
     },
     "execution_count": 10,
     "metadata": {},
     "output_type": "execute_result"
    }
   ],
   "source": [
    "tweets.head()"
   ]
  },
  {
   "cell_type": "code",
   "execution_count": 11,
   "metadata": {},
   "outputs": [
    {
     "data": {
      "text/plain": [
       "Text(0.5, 1.0, 'Distribution of sentiment scores from text')"
      ]
     },
     "execution_count": 11,
     "metadata": {},
     "output_type": "execute_result"
    },
    {
     "data": {
      "image/png": "[encoded data removed]",
      "text/plain": [
       "<Figure size 432x288 with 1 Axes>"
      ]
     },
     "metadata": {
      "needs_background": "light"
     },
     "output_type": "display_data"
    }
   ],
   "source": [
    "tweets['sentiment'].plot.hist()\n",
    "plt.xlabel('Sentiment Score')\n",
    "plt.ylabel('Frequency')\n",
    "plt.title('Distribution of sentiment scores from text', fontsize = 15)"
   ]
  },
  {
   "cell_type": "code",
   "execution_count": 12,
   "metadata": {},
   "outputs": [
    {
     "name": "stdout",
     "output_type": "stream",
     "text": [
      "Tweet:  Esta noche será larga para los uniformados y decisiva para su futuro, último llamado será mañana a que se pongan del lado correcto # VenezuelaAidLive # Venezuela # AyudaHumanitaria # 23F @ marcorubio\n",
      "\n",
      "Bing translate: Tonight will be long for the uniformed and decisive for their future, last call will be tomorrow to be put on the right side # VenezuelaAidLive # Venezuela # AyudaHumanitaria # 23F @ marcorubio \n"
     ]
    }
   ],
   "source": [
    "print('Tweet: ', tweets['text'][1])\n",
    "print()\n",
    "print('Bing translate: Tonight will be long for the uniformed and decisive for their future, last call will be tomorrow to be put on the right side # \\\n",
    "VenezuelaAidLive # Venezuela # AyudaHumanitaria # 23F @ marcorubio ')"
   ]
  },
  {
   "cell_type": "code",
   "execution_count": 13,
   "metadata": {},
   "outputs": [
    {
     "name": "stdout",
     "output_type": "stream",
     "text": [
      "Tweet:  Pampatar  T-shirt Dale like Etiqueta a un amigo . . . . # moda # 23f # ucv # compras # comprasonline # franelas # ptolacruz # lentes # ventas # ventasonline # tiendavirtual # tiendaonline # venezuela # caracas # valencia # carabobo # maracaibo # zulia # barqu… https://ift.tt/2Sn3Y50 pic.twitter.com/pzJqnXjx0f\n",
      "\n",
      "Bing translate: Pampatar T-shirt Dale like tag a friend.... # fashion # 23f # UCV # shopping # comprasonline # flannels # ptolacruz # lenses # sales # ventasonline # tiendavirtual # tiendaonline # Venezuela # Caracas # Valencia # Carabobo # Maracaibo # Zulia # Barqu... https://ift.tt/2Sn3Y50 pic.twitter.com/pzJqnXjx0f\n"
     ]
    }
   ],
   "source": [
    "print('Tweet: ', tweets['text'][2])\n",
    "print()\n",
    "print('Bing translate: Pampatar T-shirt Dale like tag a friend.... # fashion # 23f # UCV # shopping # comprasonline # flannels # ptolacruz # lenses # sales # ventasonline # \\\n",
    "tiendavirtual # tiendaonline # Venezuela # Caracas # Valencia # Carabobo # Maracaibo # Zulia # Barqu... https://ift.tt/2Sn3Y50 pic.twitter.com/pzJqnXjx0f')"
   ]
  },
  {
   "cell_type": "code",
   "execution_count": 14,
   "metadata": {},
   "outputs": [
    {
     "data": {
      "text/html": [
       "<div>\n",
       "<style scoped>\n",
       "    .dataframe tbody tr th:only-of-type {\n",
       "        vertical-align: middle;\n",
       "    }\n",
       "\n",
       "    .dataframe tbody tr th {\n",
       "        vertical-align: top;\n",
       "    }\n",
       "\n",
       "    .dataframe thead th {\n",
       "        text-align: right;\n",
       "    }\n",
       "</style>\n",
       "<table border=\"1\" class=\"dataframe\">\n",
       "  <thead>\n",
       "    <tr style=\"text-align: right;\">\n",
       "      <th></th>\n",
       "      <th>username</th>\n",
       "      <th>date</th>\n",
       "      <th>retweets</th>\n",
       "      <th>favorites</th>\n",
       "      <th>text</th>\n",
       "      <th>geo</th>\n",
       "      <th>mentions</th>\n",
       "      <th>hashtags</th>\n",
       "      <th>id</th>\n",
       "      <th>permalink</th>\n",
       "      <th>sentiment</th>\n",
       "      <th>len</th>\n",
       "    </tr>\n",
       "  </thead>\n",
       "  <tbody>\n",
       "    <tr>\n",
       "      <th>0</th>\n",
       "      <td>fran0506</td>\n",
       "      <td>2019-02-22 18:57</td>\n",
       "      <td>0</td>\n",
       "      <td>1</td>\n",
       "      <td>Si así estuvo el día de hoy, como sera mañana ...</td>\n",
       "      <td>NaN</td>\n",
       "      <td>NaN</td>\n",
       "      <td># #</td>\n",
       "      <td>1099095851434151936</td>\n",
       "      <td>https://twitter.com/fran0506/status/1099095851...</td>\n",
       "      <td>0.635764</td>\n",
       "      <td>82</td>\n",
       "    </tr>\n",
       "    <tr>\n",
       "      <th>1</th>\n",
       "      <td>antjgo</td>\n",
       "      <td>2019-02-22 18:46</td>\n",
       "      <td>0</td>\n",
       "      <td>2</td>\n",
       "      <td>Esta noche será larga para los uniformados y d...</td>\n",
       "      <td>NaN</td>\n",
       "      <td>@</td>\n",
       "      <td># # # #</td>\n",
       "      <td>1099093000213463040</td>\n",
       "      <td>https://twitter.com/antjgo/status/109909300021...</td>\n",
       "      <td>0.576211</td>\n",
       "      <td>199</td>\n",
       "    </tr>\n",
       "    <tr>\n",
       "      <th>2</th>\n",
       "      <td>liarclothingve</td>\n",
       "      <td>2019-02-22 18:40</td>\n",
       "      <td>0</td>\n",
       "      <td>0</td>\n",
       "      <td>Pampatar  T-shirt Dale like Etiqueta a un amig...</td>\n",
       "      <td>NaN</td>\n",
       "      <td>NaN</td>\n",
       "      <td># # # # # # # # # # # # # # # # # # #</td>\n",
       "      <td>1099091668387672065</td>\n",
       "      <td>https://twitter.com/liarclothingve/status/1099...</td>\n",
       "      <td>0.329231</td>\n",
       "      <td>310</td>\n",
       "    </tr>\n",
       "    <tr>\n",
       "      <th>3</th>\n",
       "      <td>JesusMendozaJ</td>\n",
       "      <td>2019-02-22 18:39</td>\n",
       "      <td>0</td>\n",
       "      <td>0</td>\n",
       "      <td>El día de mañana # 23F será un día muy movido ...</td>\n",
       "      <td>NaN</td>\n",
       "      <td>NaN</td>\n",
       "      <td># # # # #</td>\n",
       "      <td>1099091306717040640</td>\n",
       "      <td>https://twitter.com/JesusMendozaJ/status/10990...</td>\n",
       "      <td>0.685189</td>\n",
       "      <td>175</td>\n",
       "    </tr>\n",
       "    <tr>\n",
       "      <th>4</th>\n",
       "      <td>csancheznieto</td>\n",
       "      <td>2019-02-22 18:15</td>\n",
       "      <td>1</td>\n",
       "      <td>5</td>\n",
       "      <td>Venezuela y sus contradicciones, nunca aprendi...</td>\n",
       "      <td>NaN</td>\n",
       "      <td>@VenezuelaAidLive</td>\n",
       "      <td># #</td>\n",
       "      <td>1099085399505330176</td>\n",
       "      <td>https://twitter.com/csancheznieto/status/10990...</td>\n",
       "      <td>0.062046</td>\n",
       "      <td>278</td>\n",
       "    </tr>\n",
       "  </tbody>\n",
       "</table>\n",
       "</div>"
      ],
      "text/plain": [
       "         username              date  retweets  favorites  \\\n",
       "0        fran0506  2019-02-22 18:57         0          1   \n",
       "1          antjgo  2019-02-22 18:46         0          2   \n",
       "2  liarclothingve  2019-02-22 18:40         0          0   \n",
       "3   JesusMendozaJ  2019-02-22 18:39         0          0   \n",
       "4   csancheznieto  2019-02-22 18:15         1          5   \n",
       "\n",
       "                                                text  geo           mentions  \\\n",
       "0  Si así estuvo el día de hoy, como sera mañana ...  NaN                NaN   \n",
       "1  Esta noche será larga para los uniformados y d...  NaN                  @   \n",
       "2  Pampatar  T-shirt Dale like Etiqueta a un amig...  NaN                NaN   \n",
       "3  El día de mañana # 23F será un día muy movido ...  NaN                NaN   \n",
       "4  Venezuela y sus contradicciones, nunca aprendi...  NaN  @VenezuelaAidLive   \n",
       "\n",
       "                                hashtags                   id  \\\n",
       "0                                    # #  1099095851434151936   \n",
       "1                                # # # #  1099093000213463040   \n",
       "2  # # # # # # # # # # # # # # # # # # #  1099091668387672065   \n",
       "3                              # # # # #  1099091306717040640   \n",
       "4                                    # #  1099085399505330176   \n",
       "\n",
       "                                           permalink  sentiment  len  \n",
       "0  https://twitter.com/fran0506/status/1099095851...   0.635764   82  \n",
       "1  https://twitter.com/antjgo/status/109909300021...   0.576211  199  \n",
       "2  https://twitter.com/liarclothingve/status/1099...   0.329231  310  \n",
       "3  https://twitter.com/JesusMendozaJ/status/10990...   0.685189  175  \n",
       "4  https://twitter.com/csancheznieto/status/10990...   0.062046  278  "
      ]
     },
     "execution_count": 14,
     "metadata": {},
     "output_type": "execute_result"
    }
   ],
   "source": [
    "tweets['len'] = tweets['text'].apply(lambda x : len(x))\n",
    "tweets.head()"
   ]
  },
  {
   "cell_type": "code",
   "execution_count": 15,
   "metadata": {},
   "outputs": [
    {
     "name": "stdout",
     "output_type": "stream",
     "text": [
      "<class 'pandas.core.frame.DataFrame'>\n",
      "RangeIndex: 196 entries, 0 to 195\n",
      "Data columns (total 12 columns):\n",
      "username     196 non-null object\n",
      "date         196 non-null object\n",
      "retweets     196 non-null int64\n",
      "favorites    196 non-null int64\n",
      "text         196 non-null object\n",
      "geo          0 non-null float64\n",
      "mentions     74 non-null object\n",
      "hashtags     196 non-null object\n",
      "id           196 non-null int64\n",
      "permalink    196 non-null object\n",
      "sentiment    196 non-null float64\n",
      "len          196 non-null int64\n",
      "dtypes: float64(2), int64(4), object(6)\n",
      "memory usage: 18.5+ KB\n"
     ]
    }
   ],
   "source": [
    "tweets.info()"
   ]
  },
  {
   "cell_type": "code",
   "execution_count": 16,
   "metadata": {},
   "outputs": [
    {
     "data": {
      "image/png": "[encoded data removed]",
      "text/plain": [
       "<Figure size 432x288 with 1 Axes>"
      ]
     },
     "metadata": {
      "needs_background": "light"
     },
     "output_type": "display_data"
    }
   ],
   "source": [
    "tweets.plot.scatter('len', 'sentiment', s=30)\n",
    "plt.xlabel('Tweet length')\n",
    "plt.ylabel('Sentiment Score')\n",
    "plt.title('Check for relationship between tweet length and sentiment')\n",
    "plt.show()"
   ]
  },
  {
   "cell_type": "code",
   "execution_count": 17,
   "metadata": {},
   "outputs": [],
   "source": [
    "tweets['date'] = pd.to_datetime(tweets['date'])"
   ]
  },
  {
   "cell_type": "code",
   "execution_count": 18,
   "metadata": {},
   "outputs": [
    {
     "data": {
      "image/png": "[encoded data removed]",
      "text/plain": [
       "<Figure size 432x288 with 1 Axes>"
      ]
     },
     "metadata": {
      "needs_background": "light"
     },
     "output_type": "display_data"
    }
   ],
   "source": [
    "tweets.plot(x = 'date', y='sentiment')\n",
    "plt.xlabel('Date and Time')\n",
    "plt.ylabel('Sentiment Score')\n",
    "plt.title('Does sentiment change over time')\n",
    "plt.show()"
   ]
  },
  {
   "cell_type": "markdown",
   "metadata": {},
   "source": [
    "#### More negative sentiment tweets late night/very early morning? And then again late afternoon? Although this is very small dataset still"
   ]
  },
  {
   "cell_type": "code",
   "execution_count": 19,
   "metadata": {},
   "outputs": [],
   "source": [
    "tweets.to_csv('output_with_sentiment.csv')"
   ]
  },
  {
   "cell_type": "code",
   "execution_count": null,
   "metadata": {},
   "outputs": [],
   "source": []
  }
 ],
 "metadata": {
  "kernelspec": {
   "display_name": "Python 3",
   "language": "python",
   "name": "python3"
  },
  "language_info": {
   "codemirror_mode": {
    "name": "ipython",
    "version": 3
   },
   "file_extension": ".py",
   "mimetype": "text/x-python",
   "name": "python",
   "nbconvert_exporter": "python",
   "pygments_lexer": "ipython3",
   "version": "3.7.3"
  }
 },
 "nbformat": 4,
 "nbformat_minor": 2
}
