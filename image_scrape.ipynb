{
  "nbformat": 4,
  "nbformat_minor": 0,
  "metadata": {
    "colab": {
      "name": "image_scrape.ipynb",
      "version": "0.3.2",
      "provenance": [],
      "collapsed_sections": []
    },
    "kernelspec": {
      "name": "python3",
      "display_name": "Python 3"
    }
  },
  "cells": [
    {
      "metadata": {
        "id": "RRrJjeKjEIEL",
        "colab_type": "code",
        "colab": {}
      },
      "cell_type": "code",
      "source": [
        "import pandas as pd"
      ],
      "execution_count": 0,
      "outputs": []
    },
    {
      "metadata": {
        "id": "PGepxgreETuj",
        "colab_type": "code",
        "colab": {
          "base_uri": "https://localhost:8080/",
          "height": 119
        },
        "outputId": "c98ee2b7-d45d-4bba-95fe-7ede6e7ad554"
      },
      "cell_type": "code",
      "source": [
        "#git clone with user/pass"
      ],
      "execution_count": 17,
      "outputs": [
        {
          "output_type": "stream",
          "text": [
            "Cloning into '19A_Hackathon_for_Social_Good'...\n",
            "remote: Enumerating objects: 62, done.\u001b[K\n",
            "remote: Counting objects:   1% (1/62)   \u001b[K\rremote: Counting objects:   3% (2/62)   \u001b[K\rremote: Counting objects:   4% (3/62)   \u001b[K\rremote: Counting objects:   6% (4/62)   \u001b[K\rremote: Counting objects:   8% (5/62)   \u001b[K\rremote: Counting objects:   9% (6/62)   \u001b[K\rremote: Counting objects:  11% (7/62)   \u001b[K\rremote: Counting objects:  12% (8/62)   \u001b[K\rremote: Counting objects:  14% (9/62)   \u001b[K\rremote: Counting objects:  16% (10/62)   \u001b[K\rremote: Counting objects:  17% (11/62)   \u001b[K\rremote: Counting objects:  19% (12/62)   \u001b[K\rremote: Counting objects:  20% (13/62)   \u001b[K\rremote: Counting objects:  22% (14/62)   \u001b[K\rremote: Counting objects:  24% (15/62)   \u001b[K\rremote: Counting objects:  25% (16/62)   \u001b[K\rremote: Counting objects:  27% (17/62)   \u001b[K\rremote: Counting objects:  29% (18/62)   \u001b[K\rremote: Counting objects:  30% (19/62)   \u001b[K\rremote: Counting objects:  32% (20/62)   \u001b[K\rremote: Counting objects:  33% (21/62)   \u001b[K\rremote: Counting objects:  35% (22/62)   \u001b[K\rremote: Counting objects:  37% (23/62)   \rremote: Counting objects:  38% (24/62)   \u001b[K\rremote: Counting objects:  40% (25/62)   \u001b[K\rremote: Counting objects:  41% (26/62)   \u001b[K\rremote: Counting objects:  43% (27/62)   \u001b[K\rremote: Counting objects:  45% (28/62)   \u001b[K\rremote: Counting objects:  46% (29/62)   \u001b[K\rremote: Counting objects:  48% (30/62)   \u001b[K\rremote: Counting objects:  50% (31/62)   \u001b[K\rremote: Counting objects:  51% (32/62)   \u001b[K\rremote: Counting objects:  53% (33/62)   \u001b[K\rremote: Counting objects:  54% (34/62)   \u001b[K\rremote: Counting objects:  56% (35/62)   \u001b[K\rremote: Counting objects:  58% (36/62)   \u001b[K\rremote: Counting objects:  59% (37/62)   \u001b[K\rremote: Counting objects:  61% (38/62)   \u001b[K\rremote: Counting objects:  62% (39/62)   \u001b[K\rremote: Counting objects:  64% (40/62)   \u001b[K\rremote: Counting objects:  66% (41/62)   \u001b[K\rremote: Counting objects:  67% (42/62)   \u001b[K\rremote: Counting objects:  69% (43/62)   \u001b[K\rremote: Counting objects:  70% (44/62)   \u001b[K\rremote: Counting objects:  72% (45/62)   \u001b[K\rremote: Counting objects:  74% (46/62)   \u001b[K\rremote: Counting objects:  75% (47/62)   \u001b[K\rremote: Counting objects:  77% (48/62)   \u001b[K\rremote: Counting objects:  79% (49/62)   \u001b[K\rremote: Counting objects:  80% (50/62)   \u001b[K\rremote: Counting objects:  82% (51/62)   \u001b[K\rremote: Counting objects:  83% (52/62)   \u001b[K\rremote: Counting objects:  85% (53/62)   \u001b[K\rremote: Counting objects:  87% (54/62)   \u001b[K\rremote: Counting objects:  88% (55/62)   \u001b[K\rremote: Counting objects:  90% (56/62)   \u001b[K\rremote: Counting objects:  91% (57/62)   \u001b[K\rremote: Counting objects:  93% (58/62)   \u001b[K\rremote: Counting objects:  95% (59/62)   \u001b[K\rremote: Counting objects:  96% (60/62)   \u001b[K\rremote: Counting objects:  98% (61/62)   \u001b[K\rremote: Counting objects: 100% (62/62)   \u001b[K\rremote: Counting objects: 100% (62/62), done.\u001b[K\n",
            "remote: Compressing objects:   2% (1/46)   \u001b[K\rremote: Compressing objects:   4% (2/46)   \u001b[K\rremote: Compressing objects:   6% (3/46)   \u001b[K\rremote: Compressing objects:   8% (4/46)   \u001b[K\rremote: Compressing objects:  10% (5/46)   \u001b[K\rremote: Compressing objects:  13% (6/46)   \u001b[K\rremote: Compressing objects:  15% (7/46)   \u001b[K\rremote: Compressing objects:  17% (8/46)   \u001b[K\rremote: Compressing objects:  19% (9/46)   \u001b[K\rremote: Compressing objects:  21% (10/46)   \u001b[K\rremote: Compressing objects:  23% (11/46)   \u001b[K\rremote: Compressing objects:  26% (12/46)   \u001b[K\rremote: Compressing objects:  28% (13/46)   \u001b[K\rremote: Compressing objects:  30% (14/46)   \u001b[K\rremote: Compressing objects:  32% (15/46)   \u001b[K\rremote: Compressing objects:  34% (16/46)   \u001b[K\rremote: Compressing objects:  36% (17/46)   \u001b[K\rremote: Compressing objects:  39% (18/46)   \u001b[K\rremote: Compressing objects:  41% (19/46)   \u001b[K\rremote: Compressing objects:  43% (20/46)   \u001b[K\rremote: Compressing objects:  45% (21/46)   \u001b[K\rremote: Compressing objects:  47% (22/46)   \u001b[K\rremote: Compressing objects:  50% (23/46)   \u001b[K\rremote: Compressing objects:  52% (24/46)   \u001b[K\rremote: Compressing objects:  54% (25/46)   \u001b[K\rremote: Compressing objects:  56% (26/46)   \u001b[K\rremote: Compressing objects:  58% (27/46)   \u001b[K\rremote: Compressing objects:  60% (28/46)   \u001b[K\rremote: Compressing objects:  63% (29/46)   \u001b[K\rremote: Compressing objects:  65% (30/46)   \u001b[K\rremote: Compressing objects:  67% (31/46)   \u001b[K\rremote: Compressing objects:  69% (32/46)   \u001b[K\rremote: Compressing objects:  71% (33/46)   \u001b[K\rremote: Compressing objects:  73% (34/46)   \u001b[K\rremote: Compressing objects:  76% (35/46)   \u001b[K\rremote: Compressing objects:  78% (36/46)   \u001b[K\rremote: Compressing objects:  80% (37/46)   \u001b[K\rremote: Compressing objects:  82% (38/46)   \u001b[K\rremote: Compressing objects:  84% (39/46)   \u001b[K\rremote: Compressing objects:  86% (40/46)   \u001b[K\rremote: Compressing objects:  89% (41/46)   \u001b[K\rremote: Compressing objects:  91% (42/46)   \u001b[K\rremote: Compressing objects:  93% (43/46)   \u001b[K\rremote: Compressing objects:  95% (44/46)   \u001b[K\rremote: Compressing objects:  97% (45/46)   \u001b[K\rremote: Compressing objects: 100% (46/46)   \u001b[K\rremote: Compressing objects: 100% (46/46), done.\u001b[K\n",
            "Unpacking objects:   1% (1/62)   \rUnpacking objects:   3% (2/62)   \rUnpacking objects:   4% (3/62)   \rUnpacking objects:   6% (4/62)   \rUnpacking objects:   8% (5/62)   \rUnpacking objects:   9% (6/62)   \rUnpacking objects:  11% (7/62)   \rUnpacking objects:  12% (8/62)   \rUnpacking objects:  14% (9/62)   \rUnpacking objects:  16% (10/62)   \rUnpacking objects:  17% (11/62)   \rUnpacking objects:  19% (12/62)   \rUnpacking objects:  20% (13/62)   \rUnpacking objects:  22% (14/62)   \rremote: Total 62 (delta 18), reused 51 (delta 10), pack-reused 0\u001b[K\n",
            "Unpacking objects:  24% (15/62)   \rUnpacking objects:  25% (16/62)   \rUnpacking objects:  27% (17/62)   \rUnpacking objects:  29% (18/62)   \rUnpacking objects:  30% (19/62)   \rUnpacking objects:  32% (20/62)   \rUnpacking objects:  33% (21/62)   \rUnpacking objects:  35% (22/62)   \rUnpacking objects:  37% (23/62)   \rUnpacking objects:  38% (24/62)   \rUnpacking objects:  40% (25/62)   \rUnpacking objects:  41% (26/62)   \rUnpacking objects:  43% (27/62)   \rUnpacking objects:  45% (28/62)   \rUnpacking objects:  46% (29/62)   \rUnpacking objects:  48% (30/62)   \rUnpacking objects:  50% (31/62)   \rUnpacking objects:  51% (32/62)   \rUnpacking objects:  53% (33/62)   \rUnpacking objects:  54% (34/62)   \rUnpacking objects:  56% (35/62)   \rUnpacking objects:  58% (36/62)   \rUnpacking objects:  59% (37/62)   \rUnpacking objects:  61% (38/62)   \rUnpacking objects:  62% (39/62)   \rUnpacking objects:  64% (40/62)   \rUnpacking objects:  66% (41/62)   \rUnpacking objects:  67% (42/62)   \rUnpacking objects:  69% (43/62)   \rUnpacking objects:  70% (44/62)   \rUnpacking objects:  72% (45/62)   \rUnpacking objects:  74% (46/62)   \rUnpacking objects:  75% (47/62)   \rUnpacking objects:  77% (48/62)   \rUnpacking objects:  79% (49/62)   \rUnpacking objects:  80% (50/62)   \rUnpacking objects:  82% (51/62)   \rUnpacking objects:  83% (52/62)   \rUnpacking objects:  85% (53/62)   \rUnpacking objects:  87% (54/62)   \rUnpacking objects:  88% (55/62)   \rUnpacking objects:  90% (56/62)   \rUnpacking objects:  91% (57/62)   \rUnpacking objects:  93% (58/62)   \rUnpacking objects:  95% (59/62)   \rUnpacking objects:  96% (60/62)   \rUnpacking objects:  98% (61/62)   \rUnpacking objects: 100% (62/62)   \rUnpacking objects: 100% (62/62), done.\n"
          ],
          "name": "stdout"
        }
      ]
    },
    {
      "metadata": {
        "id": "z3FOREC0HCWv",
        "colab_type": "code",
        "colab": {
          "base_uri": "https://localhost:8080/",
          "height": 34
        },
        "outputId": "d814b6b4-12c8-43c7-8046-5d300f705d72"
      },
      "cell_type": "code",
      "source": [
        "%cd 19A_Hackathon_for_Social_Good/"
      ],
      "execution_count": 26,
      "outputs": [
        {
          "output_type": "stream",
          "text": [
            "/content/19A_Hackathon_for_Social_Good\n"
          ],
          "name": "stdout"
        }
      ]
    },
    {
      "metadata": {
        "id": "cA11CkJoHg_n",
        "colab_type": "code",
        "colab": {}
      },
      "cell_type": "code",
      "source": [
        "#create feature branch - only do once\n",
        "#!git branch photoscraping"
      ],
      "execution_count": 0,
      "outputs": []
    },
    {
      "metadata": {
        "id": "0eQW9FBCH-cG",
        "colab_type": "code",
        "colab": {
          "base_uri": "https://localhost:8080/",
          "height": 34
        },
        "outputId": "796b04d8-53af-4479-c879-4ff1f84538d7"
      },
      "cell_type": "code",
      "source": [
        "!git checkout photoscraping"
      ],
      "execution_count": 48,
      "outputs": [
        {
          "output_type": "stream",
          "text": [
            "Switched to branch 'photoscraping'\n"
          ],
          "name": "stdout"
        }
      ]
    },
    {
      "metadata": {
        "id": "vt6Jow3FF9yF",
        "colab_type": "code",
        "colab": {}
      },
      "cell_type": "code",
      "source": [
        "#if semicolon issue not already fixed\n",
        "!sed 's/; /-/g' output_got.csv > output_got_mod.csv"
      ],
      "execution_count": 0,
      "outputs": []
    },
    {
      "metadata": {
        "id": "Rp0Mjk-MGHoW",
        "colab_type": "code",
        "colab": {}
      },
      "cell_type": "code",
      "source": [
        "tweets=pd.read_csv('output_got_mod.csv',sep=';')"
      ],
      "execution_count": 0,
      "outputs": []
    },
    {
      "metadata": {
        "id": "_tTk1EfbIN33",
        "colab_type": "code",
        "colab": {
          "base_uri": "https://localhost:8080/",
          "height": 462
        },
        "outputId": "b7e43a7a-b84b-4bf2-ed99-e9eaaf384911"
      },
      "cell_type": "code",
      "source": [
        "tweets.head()"
      ],
      "execution_count": 36,
      "outputs": [
        {
          "output_type": "execute_result",
          "data": {
            "text/html": [
              "<div>\n",
              "<style scoped>\n",
              "    .dataframe tbody tr th:only-of-type {\n",
              "        vertical-align: middle;\n",
              "    }\n",
              "\n",
              "    .dataframe tbody tr th {\n",
              "        vertical-align: top;\n",
              "    }\n",
              "\n",
              "    .dataframe thead th {\n",
              "        text-align: right;\n",
              "    }\n",
              "</style>\n",
              "<table border=\"1\" class=\"dataframe\">\n",
              "  <thead>\n",
              "    <tr style=\"text-align: right;\">\n",
              "      <th></th>\n",
              "      <th>username</th>\n",
              "      <th>date</th>\n",
              "      <th>retweets</th>\n",
              "      <th>favorites</th>\n",
              "      <th>text</th>\n",
              "      <th>geo</th>\n",
              "      <th>mentions</th>\n",
              "      <th>hashtags</th>\n",
              "      <th>id</th>\n",
              "      <th>permalink</th>\n",
              "    </tr>\n",
              "  </thead>\n",
              "  <tbody>\n",
              "    <tr>\n",
              "      <th>0</th>\n",
              "      <td>fran0506</td>\n",
              "      <td>2019-02-22 18:57</td>\n",
              "      <td>0</td>\n",
              "      <td>1</td>\n",
              "      <td>Si así estuvo el día de hoy, como sera mañana ...</td>\n",
              "      <td>NaN</td>\n",
              "      <td>NaN</td>\n",
              "      <td># #</td>\n",
              "      <td>1099095851434151936</td>\n",
              "      <td>https://twitter.com/fran0506/status/1099095851...</td>\n",
              "    </tr>\n",
              "    <tr>\n",
              "      <th>1</th>\n",
              "      <td>antjgo</td>\n",
              "      <td>2019-02-22 18:46</td>\n",
              "      <td>0</td>\n",
              "      <td>2</td>\n",
              "      <td>Esta noche será larga para los uniformados y d...</td>\n",
              "      <td>NaN</td>\n",
              "      <td>@</td>\n",
              "      <td># # # #</td>\n",
              "      <td>1099093000213463040</td>\n",
              "      <td>https://twitter.com/antjgo/status/109909300021...</td>\n",
              "    </tr>\n",
              "    <tr>\n",
              "      <th>2</th>\n",
              "      <td>liarclothingve</td>\n",
              "      <td>2019-02-22 18:40</td>\n",
              "      <td>0</td>\n",
              "      <td>0</td>\n",
              "      <td>Pampatar  T-shirt Dale like Etiqueta a un amig...</td>\n",
              "      <td>NaN</td>\n",
              "      <td>NaN</td>\n",
              "      <td># # # # # # # # # # # # # # # # # # #</td>\n",
              "      <td>1099091668387672065</td>\n",
              "      <td>https://twitter.com/liarclothingve/status/1099...</td>\n",
              "    </tr>\n",
              "    <tr>\n",
              "      <th>3</th>\n",
              "      <td>JesusMendozaJ</td>\n",
              "      <td>2019-02-22 18:39</td>\n",
              "      <td>0</td>\n",
              "      <td>0</td>\n",
              "      <td>El día de mañana # 23F será un día muy movido ...</td>\n",
              "      <td>NaN</td>\n",
              "      <td>NaN</td>\n",
              "      <td># # # # #</td>\n",
              "      <td>1099091306717040640</td>\n",
              "      <td>https://twitter.com/JesusMendozaJ/status/10990...</td>\n",
              "    </tr>\n",
              "    <tr>\n",
              "      <th>4</th>\n",
              "      <td>csancheznieto</td>\n",
              "      <td>2019-02-22 18:15</td>\n",
              "      <td>1</td>\n",
              "      <td>5</td>\n",
              "      <td>Venezuela y sus contradicciones, nunca aprendi...</td>\n",
              "      <td>NaN</td>\n",
              "      <td>@VenezuelaAidLive</td>\n",
              "      <td># #</td>\n",
              "      <td>1099085399505330176</td>\n",
              "      <td>https://twitter.com/csancheznieto/status/10990...</td>\n",
              "    </tr>\n",
              "  </tbody>\n",
              "</table>\n",
              "</div>"
            ],
            "text/plain": [
              "         username              date  retweets  favorites  \\\n",
              "0        fran0506  2019-02-22 18:57         0          1   \n",
              "1          antjgo  2019-02-22 18:46         0          2   \n",
              "2  liarclothingve  2019-02-22 18:40         0          0   \n",
              "3   JesusMendozaJ  2019-02-22 18:39         0          0   \n",
              "4   csancheznieto  2019-02-22 18:15         1          5   \n",
              "\n",
              "                                                text  geo           mentions  \\\n",
              "0  Si así estuvo el día de hoy, como sera mañana ...  NaN                NaN   \n",
              "1  Esta noche será larga para los uniformados y d...  NaN                  @   \n",
              "2  Pampatar  T-shirt Dale like Etiqueta a un amig...  NaN                NaN   \n",
              "3  El día de mañana # 23F será un día muy movido ...  NaN                NaN   \n",
              "4  Venezuela y sus contradicciones, nunca aprendi...  NaN  @VenezuelaAidLive   \n",
              "\n",
              "                                hashtags                   id  \\\n",
              "0                                    # #  1099095851434151936   \n",
              "1                                # # # #  1099093000213463040   \n",
              "2  # # # # # # # # # # # # # # # # # # #  1099091668387672065   \n",
              "3                              # # # # #  1099091306717040640   \n",
              "4                                    # #  1099085399505330176   \n",
              "\n",
              "                                           permalink  \n",
              "0  https://twitter.com/fran0506/status/1099095851...  \n",
              "1  https://twitter.com/antjgo/status/109909300021...  \n",
              "2  https://twitter.com/liarclothingve/status/1099...  \n",
              "3  https://twitter.com/JesusMendozaJ/status/10990...  \n",
              "4  https://twitter.com/csancheznieto/status/10990...  "
            ]
          },
          "metadata": {
            "tags": []
          },
          "execution_count": 36
        }
      ]
    }
  ]
}