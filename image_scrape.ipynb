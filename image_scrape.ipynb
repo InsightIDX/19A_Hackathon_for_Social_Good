{
  "nbformat": 4,
  "nbformat_minor": 0,
  "metadata": {
    "colab": {
      "name": "image_scrape.ipynb",
      "version": "0.3.2",
      "provenance": [],
      "collapsed_sections": []
    },
    "kernelspec": {
      "name": "python3",
      "display_name": "Python 3"
    }
  },
  "cells": [
    {
      "cell_type": "code",
      "metadata": {
        "id": "Luk__bYL3tC6",
        "colab_type": "code",
        "outputId": "c317e5ac-4102-414a-bccb-7412fae5c550",
        "colab": {
          "base_uri": "https://localhost:8080/",
          "height": 258
        }
      },
      "source": [
        "!pip install python-twitter"
      ],
      "execution_count": 0,
      "outputs": [
        {
          "output_type": "stream",
          "text": [
            "Collecting python-twitter\n",
            "\u001b[?25l  Downloading https://files.pythonhosted.org/packages/b3/a9/2eb36853d8ca49a70482e2332aa5082e09b3180391671101b1612e3aeaf1/python_twitter-3.5-py2.py3-none-any.whl (67kB)\n",
            "\u001b[K     |████████████████████████████████| 71kB 4.6MB/s \n",
            "\u001b[?25hRequirement already satisfied: requests in /usr/local/lib/python3.6/dist-packages (from python-twitter) (2.21.0)\n",
            "Requirement already satisfied: requests-oauthlib in /usr/local/lib/python3.6/dist-packages (from python-twitter) (1.2.0)\n",
            "Requirement already satisfied: future in /usr/local/lib/python3.6/dist-packages (from python-twitter) (0.16.0)\n",
            "Requirement already satisfied: idna<2.9,>=2.5 in /usr/local/lib/python3.6/dist-packages (from requests->python-twitter) (2.8)\n",
            "Requirement already satisfied: chardet<3.1.0,>=3.0.2 in /usr/local/lib/python3.6/dist-packages (from requests->python-twitter) (3.0.4)\n",
            "Requirement already satisfied: certifi>=2017.4.17 in /usr/local/lib/python3.6/dist-packages (from requests->python-twitter) (2019.3.9)\n",
            "Requirement already satisfied: urllib3<1.25,>=1.21.1 in /usr/local/lib/python3.6/dist-packages (from requests->python-twitter) (1.24.2)\n",
            "Requirement already satisfied: oauthlib>=3.0.0 in /usr/local/lib/python3.6/dist-packages (from requests-oauthlib->python-twitter) (3.0.1)\n",
            "Installing collected packages: python-twitter\n",
            "Successfully installed python-twitter-3.5\n"
          ],
          "name": "stdout"
        }
      ]
    },
    {
      "cell_type": "code",
      "metadata": {
        "id": "RRrJjeKjEIEL",
        "colab_type": "code",
        "colab": {}
      },
      "source": [
        "import pandas as pd\n",
        "import twitter\n",
        "import sys\n",
        "import os"
      ],
      "execution_count": 0,
      "outputs": []
    },
    {
      "cell_type": "code",
      "metadata": {
        "id": "z3FOREC0HCWv",
        "colab_type": "code",
        "outputId": "98f51775-f8eb-4d92-e82f-d66dd86e3634",
        "colab": {
          "base_uri": "https://localhost:8080/",
          "height": 34
        }
      },
      "source": [
        "%cd ./19A_Hackathon_for_Social_Good/"
      ],
      "execution_count": 0,
      "outputs": [
        {
          "output_type": "stream",
          "text": [
            "/content/19A_Hackathon_for_Social_Good\n"
          ],
          "name": "stdout"
        }
      ]
    },
    {
      "cell_type": "code",
      "metadata": {
        "id": "nMd_ZKaz3ynl",
        "colab_type": "code",
        "colab": {}
      },
      "source": [
        "api = twitter.Api(consumer_key='o2FVKVmYuOscIvDOgBoLwQdg2',\n",
        "                  consumer_secret='jzbeDlSb5cJbfJEXERbR47JjaLpzC85u9nrquiMy4Ex7aFL9bD',\n",
        "                  access_token_key='867046056-cvYtXPfzYSnftVl8wwExAc9LDm4XmF0CcOfJ7fZw',\n",
        "                  access_token_secret='MMLxDnE4dNO8BXQQ1RfelhJEi6n8S82H1DPXXeFlShQH7',\n",
        "                  tweet_mode='extended',\n",
        "                  sleep_on_rate_limit=True)"
      ],
      "execution_count": 0,
      "outputs": []
    },
    {
      "cell_type": "code",
      "metadata": {
        "id": "M9htVWdONAsV",
        "colab_type": "code",
        "colab": {}
      },
      "source": [
        "def medialink(x):\n",
        "    if x.AsDict().get('media'):\n",
        "        return x.AsDict().get('media')[0]['media_url']\n",
        "    else:\n",
        "        pass"
      ],
      "execution_count": 0,
      "outputs": []
    },
    {
      "cell_type": "code",
      "metadata": {
        "id": "Wgg7wAJ5eusR",
        "colab_type": "code",
        "colab": {}
      },
      "source": [
        "def getid(x):\n",
        "    return x.AsDict().get('id_str')"
      ],
      "execution_count": 0,
      "outputs": []
    },
    {
      "cell_type": "markdown",
      "metadata": {
        "id": "ysZARAqudBeA",
        "colab_type": "text"
      },
      "source": [
        ""
      ]
    },
    {
      "cell_type": "code",
      "metadata": {
        "id": "0sZAH6V5R2r4",
        "colab_type": "code",
        "colab": {}
      },
      "source": [
        "#standin/example, havent tested\n",
        "def lang(x):\n",
        "    return x.AsDict().get('lang')\n",
        "   "
      ],
      "execution_count": 0,
      "outputs": []
    },
    {
      "cell_type": "code",
      "metadata": {
        "id": "vv2NDs7mR2xx",
        "colab_type": "code",
        "colab": {}
      },
      "source": [
        "#standin/example, havent tested\n",
        "def geo(x):\n",
        "    return x.AsDict().get('geo')\n"
      ],
      "execution_count": 0,
      "outputs": []
    },
    {
      "cell_type": "code",
      "metadata": {
        "id": "0pwnA_5XbKqO",
        "colab_type": "code",
        "outputId": "a6bd5969-8e27-4c3b-bc8d-75043ed52e64",
        "colab": {
          "base_uri": "https://localhost:8080/",
          "height": 51
        }
      },
      "source": [
        "%cd data/clean/"
      ],
      "execution_count": 0,
      "outputs": [
        {
          "output_type": "stream",
          "text": [
            "[Errno 2] No such file or directory: 'data/clean/'\n",
            "/content/19A_Hackathon_for_Social_Good/data/clean\n"
          ],
          "name": "stdout"
        }
      ]
    },
    {
      "cell_type": "code",
      "metadata": {
        "id": "Zsj6gfPLYYWu",
        "colab_type": "code",
        "outputId": "361c94f5-1596-4ed9-f516-1d0cb8dc467b",
        "colab": {
          "base_uri": "https://localhost:8080/",
          "height": 105
        }
      },
      "source": [
        "for filename in os.listdir('./'):\n",
        "    if filename.startswith('links'):\n",
        "        pass\n",
        "    elif filename.endswith(\".csv\"):\n",
        "        csv=pd.read_csv(filename,sep=';',error_bad_lines=False,dtype=str)\n",
        "        csv=csv[csv.id.isnull() == False]\n",
        "        tweets=api.GetStatuses(csv.id,include_entities=True,trim_user=True)\n",
        "        pd.DataFrame([list(map(getid,tweets)),list(map(medialink,tweets))]).transpose().to_csv('links' + '_' + filename)\n",
        "        "
      ],
      "execution_count": 0,
      "outputs": [
        {
          "output_type": "stream",
          "text": [
            "b'Skipping line 4073: expected 10 fields, saw 12\\nSkipping line 14044: expected 10 fields, saw 11\\nSkipping line 30941: expected 10 fields, saw 11\\nSkipping line 33717: expected 10 fields, saw 12\\n'\n",
            "b'Skipping line 17709: expected 10 fields, saw 11\\nSkipping line 18724: expected 10 fields, saw 11\\nSkipping line 24832: expected 10 fields, saw 11\\n'\n",
            "b'Skipping line 14699: expected 10 fields, saw 12\\nSkipping line 15499: expected 10 fields, saw 12\\nSkipping line 28221: expected 10 fields, saw 11\\n'\n",
            "b'Skipping line 6353: expected 10 fields, saw 11\\n'\n"
          ],
          "name": "stderr"
        }
      ]
    }
  ]
}