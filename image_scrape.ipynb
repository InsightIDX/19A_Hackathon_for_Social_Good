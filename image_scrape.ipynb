{
  "nbformat": 4,
  "nbformat_minor": 0,
  "metadata": {
    "colab": {
      "name": "image_scrape.ipynb",
      "version": "0.3.2",
      "provenance": [],
      "collapsed_sections": []
    },
    "kernelspec": {
      "name": "python3",
      "display_name": "Python 3"
    }
  },
  "cells": [
    {
      "metadata": {
        "id": "RRrJjeKjEIEL",
        "colab_type": "code",
        "colab": {}
      },
      "cell_type": "code",
      "source": [
        "import pandas as pd"
      ],
      "execution_count": 0,
      "outputs": []
    },
    {
      "metadata": {
        "id": "PGepxgreETuj",
        "colab_type": "code",
        "outputId": "ec0472ab-2667-4864-fb09-edd79b83d979",
        "colab": {
          "base_uri": "https://localhost:8080/",
          "height": 136
        }
      },
      "cell_type": "code",
      "source": [
        "#git clone with user/pass\n"
      ],
      "execution_count": 67,
      "outputs": [
        {
          "output_type": "stream",
          "text": [
            "Cloning into '19A_Hackathon_for_Social_Good'...\n",
            "remote: Enumerating objects: 285, done.\u001b[K\n",
            "remote: Counting objects: 100% (285/285), done.\u001b[K\n",
            "remote: Compressing objects: 100% (118/118), done.\u001b[K\n",
            "remote: Total 285 (delta 55), reused 246 (delta 28), pack-reused 0\u001b[K\n",
            "Receiving objects: 100% (285/285), 30.09 MiB | 19.63 MiB/s, done.\n",
            "Resolving deltas: 100% (55/55), done.\n"
          ],
          "name": "stdout"
        }
      ]
    },
    {
      "metadata": {
        "id": "z3FOREC0HCWv",
        "colab_type": "code",
        "outputId": "a4d976f9-0344-441b-c213-54bee500c310",
        "colab": {
          "base_uri": "https://localhost:8080/",
          "height": 34
        }
      },
      "cell_type": "code",
      "source": [
        "%cd ../19A_Hackathon_for_Social_Good/"
      ],
      "execution_count": 115,
      "outputs": [
        {
          "output_type": "stream",
          "text": [
            "/content/19A_Hackathon_for_Social_Good\n"
          ],
          "name": "stdout"
        }
      ]
    },
    {
      "metadata": {
        "id": "cA11CkJoHg_n",
        "colab_type": "code",
        "colab": {}
      },
      "cell_type": "code",
      "source": [
        "#create feature branch - only do once\n",
        "#!git branch photoscraping"
      ],
      "execution_count": 0,
      "outputs": []
    },
    {
      "metadata": {
        "id": "0eQW9FBCH-cG",
        "colab_type": "code",
        "outputId": "f2a45b21-13fa-4a73-dd3d-3639e14579ca",
        "colab": {
          "base_uri": "https://localhost:8080/",
          "height": 408
        }
      },
      "cell_type": "code",
      "source": [
        "!git checkout photoscraping"
      ],
      "execution_count": 116,
      "outputs": [
        {
          "output_type": "stream",
          "text": [
            "M\ttweets_byuser/Borjas___j.tweets.images\n",
            "M\ttweets_byuser/CSLvenezuela_.tweets.images\n",
            "M\ttweets_byuser/C_dPaz.tweets.images\n",
            "M\ttweets_byuser/CarlosAlvarez92.tweets.images\n",
            "M\ttweets_byuser/DannyPerdomo.tweets.images\n",
            "M\ttweets_byuser/DouglasJimenez.tweets.images\n",
            "M\ttweets_byuser/Edu_Enduro.tweets.images\n",
            "M\ttweets_byuser/ElInformadorVE.tweets.images\n",
            "M\ttweets_byuser/El_Econ.tweets.images\n",
            "M\ttweets_byuser/FTT_np.tweets.images\n",
            "M\ttweets_byuser/Hpeinado1.tweets.images\n",
            "M\ttweets_byuser/beatrizbecerrab.tweets.images\n",
            "M\ttweets_byuser/beerAndGin.tweets.images\n",
            "M\ttweets_byuser/carlos_estrell.tweets.images\n",
            "M\ttweets_byuser/copleritodeoro.tweets.images\n",
            "M\ttweets_byuser/correiadriano.tweets.images\n",
            "M\ttweets_byuser/efren_colombani.tweets.images\n",
            "M\ttweets_byuser/gabrielfidel.tweets.images\n",
            "M\ttweets_byuser/ingjuancamero.tweets.images\n",
            "M\ttweets_byuser/irmaar.tweets.images\n",
            "M\ttweets_byuser/jgamorin.tweets.images\n",
            "Already on 'photoscraping'\n",
            "Your branch is up to date with 'origin/photoscraping'.\n"
          ],
          "name": "stdout"
        }
      ]
    },
    {
      "metadata": {
        "id": "IuyUTu8ISIS1",
        "colab_type": "code",
        "outputId": "61fa377a-2154-4423-dd90-b35e119e2dff",
        "colab": {
          "base_uri": "https://localhost:8080/",
          "height": 102
        }
      },
      "cell_type": "code",
      "source": [
        "#%cd ../\n",
        "!git clone https://github.com/SheaML/twitter-photos"
      ],
      "execution_count": 68,
      "outputs": [
        {
          "output_type": "stream",
          "text": [
            "Cloning into 'twitter-photos'...\n",
            "remote: Enumerating objects: 448, done.\u001b[K\n",
            "Receiving objects:   0% (1/448)   \rReceiving objects:   1% (5/448)   \rReceiving objects:   2% (9/448)   \rReceiving objects:   3% (14/448)   \rReceiving objects:   4% (18/448)   \rReceiving objects:   5% (23/448)   \rReceiving objects:   6% (27/448)   \rReceiving objects:   7% (32/448)   \rReceiving objects:   8% (36/448)   \rReceiving objects:   9% (41/448)   \rReceiving objects:  10% (45/448)   \rReceiving objects:  11% (50/448)   \rReceiving objects:  12% (54/448)   \rReceiving objects:  13% (59/448)   \rReceiving objects:  14% (63/448)   \rReceiving objects:  15% (68/448)   \rReceiving objects:  16% (72/448)   \rReceiving objects:  17% (77/448)   \rReceiving objects:  18% (81/448)   \rReceiving objects:  19% (86/448)   \rReceiving objects:  20% (90/448)   \rReceiving objects:  21% (95/448)   \rReceiving objects:  22% (99/448)   \rReceiving objects:  23% (104/448)   \rReceiving objects:  24% (108/448)   \rReceiving objects:  25% (112/448)   \rReceiving objects:  26% (117/448)   \rReceiving objects:  27% (121/448)   \rReceiving objects:  28% (126/448)   \rReceiving objects:  29% (130/448)   \rReceiving objects:  30% (135/448)   \rReceiving objects:  31% (139/448)   \rReceiving objects:  32% (144/448)   \rReceiving objects:  33% (148/448)   \rReceiving objects:  34% (153/448)   \rReceiving objects:  35% (157/448)   \rReceiving objects:  36% (162/448)   \rReceiving objects:  37% (166/448)   \rReceiving objects:  38% (171/448)   \rReceiving objects:  39% (175/448)   \rReceiving objects:  40% (180/448)   \rReceiving objects:  41% (184/448)   \rReceiving objects:  42% (189/448)   \rReceiving objects:  43% (193/448)   \rReceiving objects:  44% (198/448)   \rReceiving objects:  45% (202/448)   \rReceiving objects:  46% (207/448)   \rReceiving objects:  47% (211/448)   \rReceiving objects:  48% (216/448)   \rReceiving objects:  49% (220/448)   \rReceiving objects:  50% (224/448)   \rReceiving objects:  51% (229/448)   \rReceiving objects:  52% (233/448)   \rReceiving objects:  53% (238/448)   \rReceiving objects:  54% (242/448)   \rReceiving objects:  55% (247/448)   \rReceiving objects:  56% (251/448)   \rReceiving objects:  57% (256/448)   \rReceiving objects:  58% (260/448)   \rReceiving objects:  59% (265/448)   \rReceiving objects:  60% (269/448)   \rReceiving objects:  61% (274/448)   \rReceiving objects:  62% (278/448)   \rReceiving objects:  63% (283/448)   \rReceiving objects:  64% (287/448)   \rReceiving objects:  65% (292/448)   \rReceiving objects:  66% (296/448)   \rReceiving objects:  67% (301/448)   \rReceiving objects:  68% (305/448)   \rReceiving objects:  69% (310/448)   \rReceiving objects:  70% (314/448)   \rReceiving objects:  71% (319/448)   \rReceiving objects:  72% (323/448)   \rReceiving objects:  73% (328/448)   \rReceiving objects:  74% (332/448)   \rReceiving objects:  75% (336/448)   \rReceiving objects:  76% (341/448)   \rReceiving objects:  77% (345/448)   \rReceiving objects:  78% (350/448)   \rReceiving objects:  79% (354/448)   \rReceiving objects:  80% (359/448)   \rReceiving objects:  81% (363/448)   \rReceiving objects:  82% (368/448)   \rReceiving objects:  83% (372/448)   \rReceiving objects:  84% (377/448)   \rReceiving objects:  85% (381/448)   \rReceiving objects:  86% (386/448)   \rReceiving objects:  87% (390/448)   \rReceiving objects:  88% (395/448)   \rReceiving objects:  89% (399/448)   \rReceiving objects:  90% (404/448)   \rReceiving objects:  91% (408/448)   \rReceiving objects:  92% (413/448)   \rReceiving objects:  93% (417/448)   \rReceiving objects:  94% (422/448)   \rReceiving objects:  95% (426/448)   \rReceiving objects:  96% (431/448)   \rReceiving objects:  97% (435/448)   \rReceiving objects:  98% (440/448)   \rReceiving objects:  99% (444/448)   \rremote: Total 448 (delta 0), reused 0 (delta 0), pack-reused 448\u001b[K\n",
            "Receiving objects: 100% (448/448)   \rReceiving objects: 100% (448/448), 809.69 KiB | 11.09 MiB/s, done.\n",
            "Resolving deltas:   0% (0/263)   \rResolving deltas:   1% (3/263)   \rResolving deltas:   2% (6/263)   \rResolving deltas:   4% (11/263)   \rResolving deltas:   5% (15/263)   \rResolving deltas:  10% (27/263)   \rResolving deltas:  13% (35/263)   \rResolving deltas:  14% (37/263)   \rResolving deltas:  18% (49/263)   \rResolving deltas:  28% (76/263)   \rResolving deltas:  36% (95/263)   \rResolving deltas:  37% (98/263)   \rResolving deltas:  38% (100/263)   \rResolving deltas:  42% (113/263)   \rResolving deltas:  44% (117/263)   \rResolving deltas:  45% (119/263)   \rResolving deltas:  46% (123/263)   \rResolving deltas:  49% (129/263)   \rResolving deltas:  55% (147/263)   \rResolving deltas:  56% (149/263)   \rResolving deltas:  57% (150/263)   \rResolving deltas:  58% (154/263)   \rResolving deltas:  66% (175/263)   \rResolving deltas:  67% (178/263)   \rResolving deltas:  69% (184/263)   \rResolving deltas:  87% (229/263)   \rResolving deltas:  88% (234/263)   \rResolving deltas:  92% (242/263)   \rResolving deltas:  96% (254/263)   \rResolving deltas:  98% (258/263)   \rResolving deltas:  99% (262/263)   \rResolving deltas: 100% (263/263)   \rResolving deltas: 100% (263/263), done.\n"
          ],
          "name": "stdout"
        }
      ]
    },
    {
      "metadata": {
        "id": "1EJDTVIBSQbd",
        "colab_type": "code",
        "outputId": "6c20832c-3fd4-4184-d5f6-3575956bcb9a",
        "colab": {
          "base_uri": "https://localhost:8080/",
          "height": 34
        }
      },
      "cell_type": "code",
      "source": [
        "%cd ../twitter-photos"
      ],
      "execution_count": 111,
      "outputs": [
        {
          "output_type": "stream",
          "text": [
            "/content/twitter-photos\n"
          ],
          "name": "stdout"
        }
      ]
    },
    {
      "metadata": {
        "id": "5PTKcrldSrDx",
        "colab_type": "code",
        "colab": {}
      },
      "cell_type": "code",
      "source": [
        "!mv ../photos.py twphotos/"
      ],
      "execution_count": 0,
      "outputs": []
    },
    {
      "metadata": {
        "id": "dfamsOkKf5rQ",
        "colab_type": "code",
        "outputId": "0310ee5f-c9a5-4e3c-9e44-d0a6f693221c",
        "colab": {
          "base_uri": "https://localhost:8080/",
          "height": 1717
        }
      },
      "cell_type": "code",
      "source": [
        "!python setup.py install"
      ],
      "execution_count": 113,
      "outputs": [
        {
          "output_type": "stream",
          "text": [
            "running install\n",
            "running bdist_egg\n",
            "running egg_info\n",
            "writing twitter_photos.egg-info/PKG-INFO\n",
            "writing dependency_links to twitter_photos.egg-info/dependency_links.txt\n",
            "writing entry points to twitter_photos.egg-info/entry_points.txt\n",
            "writing requirements to twitter_photos.egg-info/requires.txt\n",
            "writing top-level names to twitter_photos.egg-info/top_level.txt\n",
            "reading manifest template 'MANIFEST.in'\n",
            "writing manifest file 'twitter_photos.egg-info/SOURCES.txt'\n",
            "installing library code to build/bdist.linux-x86_64/egg\n",
            "running install_lib\n",
            "running build_py\n",
            "copying twphotos/photos.py -> build/lib/twphotos\n",
            "creating build/bdist.linux-x86_64/egg\n",
            "creating build/bdist.linux-x86_64/egg/twphotos\n",
            "copying build/lib/twphotos/utils.py -> build/bdist.linux-x86_64/egg/twphotos\n",
            "copying build/lib/twphotos/increment.py -> build/bdist.linux-x86_64/egg/twphotos\n",
            "copying build/lib/twphotos/__init__.py -> build/bdist.linux-x86_64/egg/twphotos\n",
            "copying build/lib/twphotos/cli.py -> build/bdist.linux-x86_64/egg/twphotos\n",
            "copying build/lib/twphotos/parallel.py -> build/bdist.linux-x86_64/egg/twphotos\n",
            "copying build/lib/twphotos/settings.py -> build/bdist.linux-x86_64/egg/twphotos\n",
            "copying build/lib/twphotos/tests.py -> build/bdist.linux-x86_64/egg/twphotos\n",
            "copying build/lib/twphotos/photos.py -> build/bdist.linux-x86_64/egg/twphotos\n",
            "byte-compiling build/bdist.linux-x86_64/egg/twphotos/utils.py to utils.cpython-36.pyc\n",
            "byte-compiling build/bdist.linux-x86_64/egg/twphotos/increment.py to increment.cpython-36.pyc\n",
            "byte-compiling build/bdist.linux-x86_64/egg/twphotos/__init__.py to __init__.cpython-36.pyc\n",
            "byte-compiling build/bdist.linux-x86_64/egg/twphotos/cli.py to cli.cpython-36.pyc\n",
            "byte-compiling build/bdist.linux-x86_64/egg/twphotos/parallel.py to parallel.cpython-36.pyc\n",
            "byte-compiling build/bdist.linux-x86_64/egg/twphotos/settings.py to settings.cpython-36.pyc\n",
            "byte-compiling build/bdist.linux-x86_64/egg/twphotos/tests.py to tests.cpython-36.pyc\n",
            "byte-compiling build/bdist.linux-x86_64/egg/twphotos/photos.py to photos.cpython-36.pyc\n",
            "creating build/bdist.linux-x86_64/egg/EGG-INFO\n",
            "copying twitter_photos.egg-info/PKG-INFO -> build/bdist.linux-x86_64/egg/EGG-INFO\n",
            "copying twitter_photos.egg-info/SOURCES.txt -> build/bdist.linux-x86_64/egg/EGG-INFO\n",
            "copying twitter_photos.egg-info/dependency_links.txt -> build/bdist.linux-x86_64/egg/EGG-INFO\n",
            "copying twitter_photos.egg-info/entry_points.txt -> build/bdist.linux-x86_64/egg/EGG-INFO\n",
            "copying twitter_photos.egg-info/not-zip-safe -> build/bdist.linux-x86_64/egg/EGG-INFO\n",
            "copying twitter_photos.egg-info/requires.txt -> build/bdist.linux-x86_64/egg/EGG-INFO\n",
            "copying twitter_photos.egg-info/top_level.txt -> build/bdist.linux-x86_64/egg/EGG-INFO\n",
            "creating 'dist/twitter_photos-0.4.0-py3.6.egg' and adding 'build/bdist.linux-x86_64/egg' to it\n",
            "removing 'build/bdist.linux-x86_64/egg' (and everything under it)\n",
            "Processing twitter_photos-0.4.0-py3.6.egg\n",
            "removing '/usr/local/lib/python3.6/dist-packages/twitter_photos-0.4.0-py3.6.egg' (and everything under it)\n",
            "creating /usr/local/lib/python3.6/dist-packages/twitter_photos-0.4.0-py3.6.egg\n",
            "Extracting twitter_photos-0.4.0-py3.6.egg to /usr/local/lib/python3.6/dist-packages\n",
            "twitter-photos 0.4.0 is already the active version in easy-install.pth\n",
            "Installing twphotos script to /usr/local/bin\n",
            "\n",
            "Installed /usr/local/lib/python3.6/dist-packages/twitter_photos-0.4.0-py3.6.egg\n",
            "Processing dependencies for twitter-photos==0.4.0\n",
            "Searching for urllib3==1.24.2\n",
            "Best match: urllib3 1.24.2\n",
            "Adding urllib3 1.24.2 to easy-install.pth file\n",
            "\n",
            "Using /usr/local/lib/python3.6/dist-packages\n",
            "Searching for requests==2.21.0\n",
            "Best match: requests 2.21.0\n",
            "Adding requests 2.21.0 to easy-install.pth file\n",
            "\n",
            "Using /usr/local/lib/python3.6/dist-packages\n",
            "Searching for python-twitter==3.5\n",
            "Best match: python-twitter 3.5\n",
            "Adding python-twitter 3.5 to easy-install.pth file\n",
            "\n",
            "Using /usr/local/lib/python3.6/dist-packages\n",
            "Searching for idna==2.8\n",
            "Best match: idna 2.8\n",
            "Adding idna 2.8 to easy-install.pth file\n",
            "\n",
            "Using /usr/local/lib/python3.6/dist-packages\n",
            "Searching for chardet==3.0.4\n",
            "Best match: chardet 3.0.4\n",
            "Adding chardet 3.0.4 to easy-install.pth file\n",
            "Installing chardetect script to /usr/local/bin\n",
            "\n",
            "Using /usr/local/lib/python3.6/dist-packages\n",
            "Searching for certifi==2019.3.9\n",
            "Best match: certifi 2019.3.9\n",
            "Adding certifi 2019.3.9 to easy-install.pth file\n",
            "\n",
            "Using /usr/local/lib/python3.6/dist-packages\n",
            "Searching for future==0.16.0\n",
            "Best match: future 0.16.0\n",
            "Adding future 0.16.0 to easy-install.pth file\n",
            "Installing futurize script to /usr/local/bin\n",
            "Installing pasteurize script to /usr/local/bin\n",
            "\n",
            "Using /usr/local/lib/python3.6/dist-packages\n",
            "Searching for requests-oauthlib==1.2.0\n",
            "Best match: requests-oauthlib 1.2.0\n",
            "Adding requests-oauthlib 1.2.0 to easy-install.pth file\n",
            "\n",
            "Using /usr/local/lib/python3.6/dist-packages\n",
            "Searching for oauthlib==3.0.1\n",
            "Best match: oauthlib 3.0.1\n",
            "Adding oauthlib 3.0.1 to easy-install.pth file\n",
            "\n",
            "Using /usr/local/lib/python3.6/dist-packages\n",
            "Finished processing dependencies for twitter-photos==0.4.0\n"
          ],
          "name": "stdout"
        }
      ]
    },
    {
      "metadata": {
        "id": "vt6Jow3FF9yF",
        "colab_type": "code",
        "colab": {}
      },
      "cell_type": "code",
      "source": [
        "#if semicolon issue not already fixed\n",
        "!sed 's/; /-/g' output_got.csv > output_got_mod.csv"
      ],
      "execution_count": 0,
      "outputs": []
    },
    {
      "metadata": {
        "id": "Rp0Mjk-MGHoW",
        "colab_type": "code",
        "colab": {}
      },
      "cell_type": "code",
      "source": [
        "tweets=pd.read_csv('output_got_mod.csv',sep=';')"
      ],
      "execution_count": 0,
      "outputs": []
    },
    {
      "metadata": {
        "id": "WDi3SMNHuNku",
        "colab_type": "code",
        "outputId": "02b17c5d-526d-48e1-8b7f-7c2903f1fc12",
        "colab": {
          "base_uri": "https://localhost:8080/",
          "height": 187
        }
      },
      "cell_type": "code",
      "source": [
        "!cut -d';' -f9 output_got_mod.csv | head"
      ],
      "execution_count": 0,
      "outputs": [
        {
          "output_type": "stream",
          "text": [
            "id\n",
            "\"1099095851434151936\"\n",
            "\"1099093000213463040\"\n",
            "\"1099091668387672065\"\n",
            "\"1099091306717040640\"\n",
            "\"1099085399505330176\"\n",
            "\"1099081036359704576\"\n",
            "\"1099066397022437376\"\n",
            "\"1099065736939610113\"\n",
            "\"1099055674724573184\"\n"
          ],
          "name": "stdout"
        }
      ]
    },
    {
      "metadata": {
        "id": "FsPNrZn_s3dZ",
        "colab_type": "code",
        "colab": {}
      },
      "cell_type": "code",
      "source": [
        "!for i in `cut -d';' -f1 output_got_mod.csv | tail -n +2 | sort | uniq`; do grep $i output_got_mod.csv | cut -d';' -f9 | sed 's/\\\"//g' > $i.tweets; done"
      ],
      "execution_count": 0,
      "outputs": []
    },
    {
      "metadata": {
        "id": "Hpj1qQbTtrCq",
        "colab_type": "code",
        "colab": {}
      },
      "cell_type": "code",
      "source": [
        "!mkdir -p tweets_byuser\n",
        "!mv *.tweets tweets_byuser"
      ],
      "execution_count": 0,
      "outputs": []
    },
    {
      "metadata": {
        "id": "f35iy7DB0NBq",
        "colab_type": "code",
        "outputId": "e0cee7a7-b0e2-4993-c1d8-7413a043dc9b",
        "colab": {
          "base_uri": "https://localhost:8080/",
          "height": 34
        }
      },
      "cell_type": "code",
      "source": [
        "!wc -l ../output_got_mod.csv"
      ],
      "execution_count": 0,
      "outputs": [
        {
          "output_type": "stream",
          "text": [
            "196 ../output_got_mod.csv\n"
          ],
          "name": "stdout"
        }
      ]
    },
    {
      "metadata": {
        "id": "SnXrKrxa0MvV",
        "colab_type": "code",
        "outputId": "f808eec4-fbd8-4681-ec58-43c7a16651c1",
        "colab": {
          "base_uri": "https://localhost:8080/",
          "height": 34
        }
      },
      "cell_type": "code",
      "source": [
        "!grep 'pic.twitter' ../output_got_mod.csv | grep Douglas"
      ],
      "execution_count": 0,
      "outputs": [
        {
          "output_type": "stream",
          "text": [
            "grep: ../output_got_mod.csv: No such file or directory\n"
          ],
          "name": "stdout"
        }
      ]
    },
    {
      "metadata": {
        "id": "WlwjK3YAt1f5",
        "colab_type": "code",
        "colab": {}
      },
      "cell_type": "code",
      "source": [
        "!twphotos -u DouglasJimenez -p -e > DouglasJimenez.allimages"
      ],
      "execution_count": 0,
      "outputs": []
    },
    {
      "metadata": {
        "id": "sgTE8l4J284N",
        "colab_type": "code",
        "outputId": "4ef7f624-9ef9-4b68-a571-cdbe0604668b",
        "colab": {
          "base_uri": "https://localhost:8080/",
          "height": 833
        }
      },
      "cell_type": "code",
      "source": [
        "!cat DouglasJimenez.allimages"
      ],
      "execution_count": 0,
      "outputs": [
        {
          "output_type": "stream",
          "text": [
            "DouglasJimenez 1120661191712440321 http://pbs.twimg.com/media/D41japWWAAEFYwM.jpg 1120668226759925761\n",
            "DouglasJimenez 1119952345302020096 http://pbs.twimg.com/media/D4reuWsXsAA9BLv.jpg 1119952356907548672\n",
            "DouglasJimenez 1119709332684333058 http://pbs.twimg.com/media/D4oBtKJW4AIiF5X.jpg 1119709861049196544\n",
            "DouglasJimenez 1113098332451278848 http://pbs.twimg.com/media/D3KFCTHWkAALPcx.jpg 1113125668433395718\n",
            "DouglasJimenez 1113098341141958657 http://pbs.twimg.com/media/D3KFCzfX0AEBazd.jpg 1113125668433395718\n",
            "DouglasJimenez 1113098349568319489 http://pbs.twimg.com/media/D3KFDS4X4AEKxoG.jpg 1113125668433395718\n",
            "DouglasJimenez 1113098358556684289 http://pbs.twimg.com/media/D3KFD0XXcAEpg3z.jpg 1113125668433395718\n",
            "DouglasJimenez 1108694043226243072 http://pbs.twimg.com/media/D2LfW7MXgAAvTuW.jpg 1108705581962010624\n",
            "DouglasJimenez 1108694043209465856 http://pbs.twimg.com/media/D2LfW7IXgAA2pcE.jpg 1108705581962010624\n",
            "DouglasJimenez 1108694043507286016 http://pbs.twimg.com/media/D2LfW8PX4AA50Wq.jpg 1108705581962010624\n",
            "DouglasJimenez 1108694044203515905 http://pbs.twimg.com/media/D2LfW-1XgAEEwFn.jpg 1108705581962010624\n",
            "DouglasJimenez 1107012826856636420 http://pbs.twimg.com/media/D1zmTQKXQAQg2N0.jpg 1107012836058902528\n",
            "DouglasJimenez 1104832851978211328 http://pbs.twimg.com/media/D1UnoA5X0AAoqed.jpg 1104902943071981569\n",
            "DouglasJimenez 1104832874417659904 http://pbs.twimg.com/media/D1UnpUfWoAAejY3.jpg 1104902943071981569\n",
            "DouglasJimenez 1096462233671004160 http://pbs.twimg.com/media/Dzdql5uXcAALAl0.jpg 1096509859498020866\n",
            "DouglasJimenez 1088067826903142400 http://pbs.twimg.com/media/DxmX7HoX0AAfPcJ.jpg 1088067852450578432\n",
            "DouglasJimenez 1087709305988620288 http://pbs.twimg.com/media/DxhR2dJWoAA8pss.jpg 1087709331968192512\n",
            "DouglasJimenez 1086721354148335616 http://pbs.twimg.com/media/DxTPUFvX0AAtFi7.jpg 1086721995008544768\n",
            "DouglasJimenez 1085581043388817409 http://pbs.twimg.com/media/DxDCNRIWoAESrD5.jpg 1085581046563958785\n",
            "DouglasJimenez 1082112301568802817 http://pbs.twimg.com/media/DwRvZ64WwAEV-Te.jpg 1082112825517137920\n",
            "DouglasJimenez 1078433656887234561 http://pbs.twimg.com/media/DvddsniW0AEw6Am.jpg 1078454366875594752\n",
            "DouglasJimenez 1078229233586065409 http://pbs.twimg.com/media/DvajxnZW0AEaXAr.jpg 1078229242721255430\n",
            "DouglasJimenez 1075431227841228805 http://pbs.twimg.com/media/DuyzAPvWsAUZR2d.jpg 1075557966462488576\n",
            "DouglasJimenez 1075434015350493187 http://pbs.twimg.com/media/Duy1igBWkAMN-ec.jpg 1075499759396368388\n",
            "DouglasJimenez 1064938554193674241 http://pbs.twimg.com/media/Dsdr-QZVAAEmgag.jpg 1064961342728257536\n",
            "DouglasJimenez 1064938554046865409 http://pbs.twimg.com/media/Dsdr-P2U4AEpHRr.jpg 1064961342728257536\n",
            "DouglasJimenez 1064938554046836736 http://pbs.twimg.com/media/Dsdr-P2UcAA5_q0.jpg 1064961342728257536\n",
            "DouglasJimenez 1064938554172727296 http://pbs.twimg.com/media/Dsdr-QUVYAASEjI.jpg 1064961342728257536\n",
            "DouglasJimenez 1064212104692072449 http://pbs.twimg.com/media/DsTXRVHXgAEPEzi.jpg 1064223822545649665\n",
            "DouglasJimenez 1062335982467465218 http://pbs.twimg.com/media/Dr4s8pMWwAI7W-a.jpg 1062339638185115656\n",
            "DouglasJimenez 1048242325883944961 http://pbs.twimg.com/media/Dowa13DXgAEDkyJ.jpg 1048242339704176645\n",
            "DouglasJimenez 1044227099123277824 http://pbs.twimg.com/media/Dn3XA5wUYAAwmRr.jpg 1044232473343864834\n",
            "DouglasJimenez 1042847888127287298 http://pbs.twimg.com/media/DnjwoQaX4AIuBa0.jpg 1042861073559420929\n",
            "DouglasJimenez 1034964079432151041 http://pbs.twimg.com/media/DlzuWMXXsAE2AZf.jpg 1034974134399381504\n",
            "DouglasJimenez 1034964115364753408 http://pbs.twimg.com/media/DlzuYSOXsAAR0XY.jpg 1034974119924834305\n",
            "DouglasJimenez 1034083287575216129 http://pbs.twimg.com/media/DlnNRXAWwAEPVbw.jpg 1034159902548271104\n",
            "DouglasJimenez 1033317774142136320 http://pbs.twimg.com/media/DlcVCnPW4AATk5-.jpg 1033320468546240513\n",
            "DouglasJimenez 1032833563408969728 http://pbs.twimg.com/media/DlVcp1sXsAAbvK6.jpg 1032969351119417344\n",
            "DouglasJimenez 1032290030105120769 http://pbs.twimg.com/media/DlNuUCWX0AElMyG.jpg 1032290842223038467\n",
            "DouglasJimenez 1032289932608499715 http://pbs.twimg.com/media/DlNuOXJXcAMNNId.jpg 1032290626472214531\n",
            "DouglasJimenez 1032231881302003713 http://pbs.twimg.com/media/DlM5bVLW0AEGWe1.jpg 1032239065800892417\n",
            "DouglasJimenez 1031978078552117249 http://pbs.twimg.com/media/DlJSmEQW0AE5gJ4.jpg 1031988950863421440\n",
            "DouglasJimenez 1031617994504503296 http://pbs.twimg.com/media/DlELGapXgAAM9O6.jpg 1031661924310765568\n",
            "DouglasJimenez 1029170053722324992 http://pbs.twimg.com/media/DkhYtgmWwAAuWfV.jpg 1029869616519163904\n",
            "DouglasJimenez 1029140773634289664 http://pbs.twimg.com/media/Dkg-FLxXsAAOi1u.jpg 1029141969707180032\n",
            "DouglasJimenez 1027332187891359755 http://pbs.twimg.com/media/DkHRLo2W4AsHiw7.jpg 1027347487735140352\n",
            "DouglasJimenez 1027339738364174336 http://pbs.twimg.com/media/DkHYDIjW4AAqP1b.jpg 1027342711932825602\n",
            "DouglasJimenez 1025462359207411712 http://pbs.twimg.com/media/DjsslSMXgAAIDWg.jpg 1025695910305701889\n"
          ],
          "name": "stdout"
        }
      ]
    },
    {
      "metadata": {
        "id": "5H2lTOhnwYfR",
        "colab_type": "code",
        "outputId": "757af03f-559e-497a-c94e-286725f599ef",
        "colab": {
          "base_uri": "https://localhost:8080/",
          "height": 34
        }
      },
      "cell_type": "code",
      "source": [
        "!grep 1098748596692926469 DouglasJimenez.allimages"
      ],
      "execution_count": 78,
      "outputs": [
        {
          "output_type": "stream",
          "text": [
            "DouglasJimenez 1098748444179607552 http://pbs.twimg.com/media/Dz-J43jWsAAuVnC.jpg 1098748596692926469\n"
          ],
          "name": "stdout"
        }
      ]
    },
    {
      "metadata": {
        "id": "Cteus2ftwrXt",
        "colab_type": "code",
        "outputId": "025835ef-7b71-40c4-b179-08c72315383c",
        "colab": {
          "base_uri": "https://localhost:8080/",
          "height": 34
        }
      },
      "cell_type": "code",
      "source": [
        "!cat tweets_byuser/DouglasJimenez.tweets\n"
      ],
      "execution_count": 0,
      "outputs": [
        {
          "output_type": "stream",
          "text": [
            "1098748596692926469\n"
          ],
          "name": "stdout"
        }
      ]
    },
    {
      "metadata": {
        "id": "AjFCqdyugb6x",
        "colab_type": "code",
        "colab": {}
      },
      "cell_type": "code",
      "source": [
        "!touch ~/.twphotos\n",
        "!echo '[credentials]' >> ~/.twphotos\n",
        "!echo 'consumer_key = o2FVKVmYuOscIvDOgBoLwQdg2' >> ~/.twphotos\n",
        "!echo 'consumer_secret = jzbeDlSb5cJbfJEXERbR47JjaLpzC85u9nrquiMy4Ex7aFL9bD' >> ~/.twphotos\n",
        "!echo 'access_token_key = 867046056-cvYtXPfzYSnftVl8wwExAc9LDm4XmF0CcOfJ7fZw' >> ~/.twphotos\n",
        "!echo 'access_token_secret = MMLxDnE4dNO8BXQQ1RfelhJEi6n8S82H1DPXXeFlShQH7' >> ~/.twphotos"
      ],
      "execution_count": 0,
      "outputs": []
    },
    {
      "metadata": {
        "id": "lZNWEp-7xqLE",
        "colab_type": "code",
        "colab": {
          "base_uri": "https://localhost:8080/",
          "height": 309
        },
        "outputId": "80b731fd-11e3-4666-8379-bab54dc3e088"
      },
      "cell_type": "code",
      "source": [
        "!for i in tweets_byuser/*.tweets; do grep -f $i <(twphotos -u `basename $i .tweets` -p) > $i.images; done"
      ],
      "execution_count": 117,
      "outputs": [
        {
          "output_type": "stream",
          "text": [
            "Traceback (most recent call last):\n",
            "  File \"/usr/local/bin/twphotos\", line 11, in <module>\n",
            "    load_entry_point('twitter-photos==0.4.0', 'console_scripts', 'twphotos')()\n",
            "  File \"/usr/local/lib/python3.6/dist-packages/twitter_photos-0.4.0-py3.6.egg/twphotos/photos.py\", line 290, in main\n",
            "    twphotos.get(silent=True)\n",
            "  File \"/usr/local/lib/python3.6/dist-packages/twitter_photos-0.4.0-py3.6.egg/twphotos/photos.py\", line 81, in get\n",
            "    num=self.num)\n",
            "  File \"/usr/local/lib/python3.6/dist-packages/twitter_photos-0.4.0-py3.6.egg/twphotos/photos.py\", line 105, in load\n",
            "    exclude_replies=self.exclude_replies)\n",
            "  File \"/usr/local/lib/python3.6/dist-packages/twitter/api.py\", line 812, in GetUserTimeline\n",
            "    data = self._ParseAndCheckTwitter(resp.content.decode('utf-8'))\n",
            "  File \"/usr/local/lib/python3.6/dist-packages/twitter/api.py\", line 4908, in _ParseAndCheckTwitter\n",
            "    self._CheckForTwitterError(data)\n",
            "  File \"/usr/local/lib/python3.6/dist-packages/twitter/api.py\", line 4926, in _CheckForTwitterError\n",
            "    raise TwitterError(data['error'])\n",
            "twitter.error.TwitterError: Not authorized.\n"
          ],
          "name": "stdout"
        }
      ]
    },
    {
      "metadata": {
        "id": "3R0K7LLvGFmV",
        "colab_type": "code",
        "colab": {
          "base_uri": "https://localhost:8080/",
          "height": 34
        },
        "outputId": "1bac59dc-d10f-4e37-8e01-20ec5335eae6"
      },
      "cell_type": "code",
      "source": [
        "!wc -l output_got_mod.csv"
      ],
      "execution_count": 121,
      "outputs": [
        {
          "output_type": "stream",
          "text": [
            "196 output_got_mod.csv\n"
          ],
          "name": "stdout"
        }
      ]
    },
    {
      "metadata": {
        "id": "7qAHp8hBu4J_",
        "colab_type": "code",
        "colab": {
          "base_uri": "https://localhost:8080/",
          "height": 1105
        },
        "outputId": "742d4dd7-b549-4f44-ff83-5eafa2099d89"
      },
      "cell_type": "code",
      "source": [
        "!cat tweets_byuser/*.images"
      ],
      "execution_count": 118,
      "outputs": [
        {
          "output_type": "stream",
          "text": [
            "beatrizbecerrab 1098903029821120512 http://pbs.twimg.com/media/D0AWe78WoAAFtSC.jpg 1098903039002505221\n",
            "beerAndGin 1098904624369676293 http://pbs.twimg.com/media/D0AX7wGWsAUTEcT.jpg 1098904631386738690\n",
            "Borjas___j 1098960122074841088 http://pbs.twimg.com/media/D0BKaJKXQAAIMGx.jpg 1098960131168104453\n",
            "CarlosAlvarez92 1099026008710279169 http://pbs.twimg.com/media/D0CGVQAXcAEpj9H.jpg 1099026019871326208\n",
            "carlos_estrell 1099008213167542273 http://pbs.twimg.com/media/D0B2JacWkAEEAxh.png 1099008490121687040\n",
            "C_dPaz 1098893573104304128 http://pbs.twimg.com/media/D0AN4e7XgAANr1d.png 1098990802930491393\n",
            "C_dPaz 1098893489142726657 http://pbs.twimg.com/media/D0ANzmJXgAEdl5o.png 1098900205804666880\n",
            "copleritodeoro 1098996188509024259 http://pbs.twimg.com/media/D0BrNfGWsAM03vH.jpg 1098996208675274756\n",
            "correiadriano 1099029269735452672 http://pbs.twimg.com/media/D0CJTERWsAAEyOO.jpg 1099029283475988481\n",
            "CSLvenezuela_ 1098958864572186625 http://pbs.twimg.com/media/D0BJQ8mXgAECDBi.jpg 1098959842931343361\n",
            "DannyPerdomo 1099048713438273542 http://pbs.twimg.com/media/D0Ca-1tWoAY8g6-.jpg 1099048716579803137\n",
            "DouglasJimenez 1098748444179607552 http://pbs.twimg.com/media/Dz-J43jWsAAuVnC.jpg 1098748596692926469\n",
            "Edu_Enduro 1098915870343086080 http://pbs.twimg.com/media/D0AiKWnWwAAX-aC.jpg 1098915878333239296\n",
            "efren_colombani 1098930195753590786 http://pbs.twimg.com/media/D0AvMM7X4AIssfn.jpg 1098930200920973312\n",
            "El_Econ 1099019218178191360 http://pbs.twimg.com/media/D0CAJ_TWsAAgpcX.jpg 1099021971499765760\n",
            "ElInformadorVE 1099037695752458241 http://pbs.twimg.com/media/D0CQ9hoW0AEBANb.jpg 1099037741822693381\n",
            "ElInformadorVE 1099001393778774016 http://pbs.twimg.com/media/D0Bv8ePX0AAtO4X.jpg 1099001564910489601\n",
            "FTT_np 1098881767585574912 http://pbs.twimg.com/media/D0ADJT8XcAAsl9f.jpg 1098881769049346049\n",
            "gabrielfidel 1098912926277255168 http://pbs.twimg.com/media/D0Afe_HXQAA_VWb.jpg 1098912929917874176\n",
            "Hpeinado1 1098990316642816000 http://pbs.twimg.com/media/D0Bl3ssW0AAt6Je.jpg 1098990326235185153\n",
            "ingjuancamero 1098947769329430534 http://pbs.twimg.com/media/D0A_LHmWsAYIhe0.jpg 1098947825713467396\n",
            "ingjuancamero 1098947796965703680 http://pbs.twimg.com/media/D0A_MujWwAAjgA8.jpg 1098947825713467396\n",
            "irmaar 1098965409561280512 http://pbs.twimg.com/media/D0BPN6lXgAAKxxw.jpg 1098965421544431617\n",
            "irmaar 1098965409565413376 http://pbs.twimg.com/media/D0BPN6mWkAA7VA_.jpg 1098965421544431617\n",
            "irmaar 1098930494484480000 http://pbs.twimg.com/media/D0AvdlyXgAAEdEX.jpg 1098930507935633408\n",
            "irmaar 1098930494480228353 http://pbs.twimg.com/media/D0AvdlxWoAEj0vS.jpg 1098930507935633408\n",
            "irmaar 1098911156306096128 http://pbs.twimg.com/media/D0Ad39dWsAAogi5.jpg 1098911166322098176\n",
            "irmaar 1098911156314562560 http://pbs.twimg.com/media/D0Ad39fX4AA6COI.jpg 1098911166322098176\n",
            "jgamorin 1099066386012426240 http://pbs.twimg.com/media/D0CrDhLX0AAgSJ7.jpg 1099066397022437376\n",
            "josecriollo28 1099046736721596416 http://pbs.twimg.com/media/D0CZLx3X0AA8sr8.jpg 1099046754639593474\n",
            "josecriollo28 1098995013072105472 http://pbs.twimg.com/media/D0BqJEQWsAARRkV.jpg 1098995043757682689\n",
            "juanagallardo1 1098919279800528896 http://pbs.twimg.com/media/D0AlQz1WsAA_KSj.jpg 1098919759033364481\n",
            "juanpadelahoz 1099020156574097410 http://pbs.twimg.com/media/D0CBAnGX4AIxbms.jpg 1099020163175862272\n",
            "Karcelparatodos 1098740817886396417 http://pbs.twimg.com/media/Dz-C89ZXQAEcXTc.jpg 1098740820918894592\n",
            "liarclothingve 1099091667167182848 http://pbs.twimg.com/media/D0DCDE0XgAAoU1x.jpg 1099091668387672065\n",
            "liarclothingve 1099016173943848961 http://pbs.twimg.com/media/D0B9YypVAAEB7Wv.jpg 1099016175168548864\n",
            "liogamarra 1098984324815310849 http://pbs.twimg.com/media/D0Bga7ZW0AEH7kE.jpg 1098984342334984194\n",
            "liogamarra 1098984324806987776 http://pbs.twimg.com/media/D0Bga7XX0AAJg8i.jpg 1098984342334984194\n",
            "magalysuarez25 1098852131011022851 http://pbs.twimg.com/media/Dz_oMPGX0AMkhmT.jpg 1098852137881210881\n",
            "mbgarciau 1098944267110830080 http://pbs.twimg.com/media/D0A7_Q0X0AAJShL.jpg 1098944280943562754\n",
            "mbgarciau 1098944275054772224 http://pbs.twimg.com/media/D0A7_uaWwAAgwfO.jpg 1098944280943562754\n",
            "Mohena07 1098982071006040066 http://pbs.twimg.com/media/D0BeXvTWkAID1TX.jpg 1098982080984305665\n",
            "normandmarie 1098813353554780160 http://pbs.twimg.com/media/Dz_E7F0WoAA7S4n.jpg 1098813376858329088\n",
            "OscarMachon 1098735436753760256 http://pbs.twimg.com/media/Dz9-DvHXcAAink6.jpg 1098736096102502400\n",
            "PanchoPerezLugo 1098980246303444992 http://pbs.twimg.com/media/D0BcthwWkAAlVZz.jpg 1098980817852907521\n",
            "por_ciudadanos 1098974563222773761 http://pbs.twimg.com/media/D0BXiuoVYAEWvV6.jpg 1098974572542537729\n",
            "por_ciudadanos 1098763718836477952 http://pbs.twimg.com/media/Dz-Xx-FV4AALf5u.jpg 1098763726646239232\n",
            "RandyLudatca 1098969054486949888 http://pbs.twimg.com/media/D0BSiE_XcAAiyK6.jpg 1098969901379784704\n",
            "RT_America 1098738597937799168 http://pbs.twimg.com/media/Dz-A7vcX4AAXok6.png 1098756761136259072\n",
            "soldadod_Jesus 1098805695091302400 http://pbs.twimg.com/media/Dz-99T0X4AAWiTK.jpg 1098805709595205632\n",
            "svmpgabogados 1098948842010099713 http://pbs.twimg.com/media/D0BAJjpWwAEKqda.jpg 1098948945353560067\n",
            "TuConsultaOn 1098910459183460352 http://pbs.twimg.com/media/D0AdPYeXcAAqBHs.jpg 1098910462249447424\n",
            "VaneEisig 1098958996248186880 http://pbs.twimg.com/media/D0BJYnIX0AA5Q84.jpg 1098959011209203713\n",
            "venemex_ac 1098975221661413376 http://pbs.twimg.com/media/D0BYJDgVsAANue2.jpg 1098976405537214464\n",
            "ve_villarroel 1098917328564248576 http://pbs.twimg.com/media/D0AjfO6X4AArT6c.jpg 1098917355269382144\n",
            "vzlanosmemphis 1099018535916003328 http://pbs.twimg.com/media/D0B_iRrX4AAh-Z9.jpg 1099018549388038147\n",
            "vzlanosmemphis 1099018539376226304 http://pbs.twimg.com/media/D0B_iekWsAAmeMz.jpg 1099018549388038147\n",
            "vzlanosmemphis 1099018543318949889 http://pbs.twimg.com/media/D0B_itQX4AEqa2J.jpg 1099018549388038147\n",
            "vzlanosmemphis 1099018546384908289 http://pbs.twimg.com/media/D0B_i4rWsAE3Uqy.jpg 1099018549388038147\n",
            "WILLIAMCEBALLOS 1098938965372092416 http://pbs.twimg.com/media/D0A3KqTWwAAiNn_.jpg 1098938976344436736\n",
            "xavier_torrens 1098786026938609666 http://pbs.twimg.com/media/Dz-sEePWsAIimiH.jpg 1098786043594244096\n",
            "xavier_torrens 1098786035008487425 http://pbs.twimg.com/media/Dz-sE8TXQAEdvS-.jpg 1098786043594244096\n",
            "ylmartinez 1098871587665784832 http://pbs.twimg.com/media/Dz_54wyWsAAB46w.jpg 1098871665528848386\n",
            "yuyifred 1098928783887872001 http://pbs.twimg.com/media/D0At6BUWsAE22CU.jpg 1098928789659287552\n"
          ],
          "name": "stdout"
        }
      ]
    },
    {
      "metadata": {
        "id": "Luk__bYL3tC6",
        "colab_type": "code",
        "colab": {
          "base_uri": "https://localhost:8080/",
          "height": 258
        },
        "outputId": "2e79a3c9-1ca2-4086-9011-96bfd0454cd1"
      },
      "cell_type": "code",
      "source": [
        "#!pip install python-twitter"
      ],
      "execution_count": 1,
      "outputs": [
        {
          "output_type": "stream",
          "text": [
            "Collecting python-twitter\n",
            "\u001b[?25l  Downloading https://files.pythonhosted.org/packages/b3/a9/2eb36853d8ca49a70482e2332aa5082e09b3180391671101b1612e3aeaf1/python_twitter-3.5-py2.py3-none-any.whl (67kB)\n",
            "\u001b[K    100% |████████████████████████████████| 71kB 2.8MB/s \n",
            "\u001b[?25hRequirement already satisfied: future in /usr/local/lib/python3.6/dist-packages (from python-twitter) (0.16.0)\n",
            "Requirement already satisfied: requests in /usr/local/lib/python3.6/dist-packages (from python-twitter) (2.21.0)\n",
            "Requirement already satisfied: requests-oauthlib in /usr/local/lib/python3.6/dist-packages (from python-twitter) (1.2.0)\n",
            "Requirement already satisfied: idna<2.9,>=2.5 in /usr/local/lib/python3.6/dist-packages (from requests->python-twitter) (2.8)\n",
            "Requirement already satisfied: chardet<3.1.0,>=3.0.2 in /usr/local/lib/python3.6/dist-packages (from requests->python-twitter) (3.0.4)\n",
            "Requirement already satisfied: urllib3<1.25,>=1.21.1 in /usr/local/lib/python3.6/dist-packages (from requests->python-twitter) (1.24.2)\n",
            "Requirement already satisfied: certifi>=2017.4.17 in /usr/local/lib/python3.6/dist-packages (from requests->python-twitter) (2019.3.9)\n",
            "Requirement already satisfied: oauthlib>=3.0.0 in /usr/local/lib/python3.6/dist-packages (from requests-oauthlib->python-twitter) (3.0.1)\n",
            "Installing collected packages: python-twitter\n",
            "Successfully installed python-twitter-3.5\n"
          ],
          "name": "stdout"
        }
      ]
    },
    {
      "metadata": {
        "id": "hKL7B78U3w6w",
        "colab_type": "code",
        "colab": {}
      },
      "cell_type": "code",
      "source": [
        "import twitter"
      ],
      "execution_count": 0,
      "outputs": []
    },
    {
      "metadata": {
        "id": "nMd_ZKaz3ynl",
        "colab_type": "code",
        "colab": {}
      },
      "cell_type": "code",
      "source": [
        "api = twitter.Api(consumer_key='o2FVKVmYuOscIvDOgBoLwQdg2',\n",
        "                  consumer_secret='jzbeDlSb5cJbfJEXERbR47JjaLpzC85u9nrquiMy4Ex7aFL9bD',\n",
        "                  access_token_key='867046056-cvYtXPfzYSnftVl8wwExAc9LDm4XmF0CcOfJ7fZw',\n",
        "                  access_token_secret='MMLxDnE4dNO8BXQQ1RfelhJEi6n8S82H1DPXXeFlShQH7',\n",
        "                  tweet_mode='extended')"
      ],
      "execution_count": 0,
      "outputs": []
    },
    {
      "metadata": {
        "id": "i2GfWr254STl",
        "colab_type": "code",
        "colab": {}
      },
      "cell_type": "code",
      "source": [
        "tweet=api.GetStatus(1098748596692926469,include_entities=True,trim_user=True)"
      ],
      "execution_count": 0,
      "outputs": []
    },
    {
      "metadata": {
        "id": "OonI81uE-5WG",
        "colab_type": "code",
        "colab": {
          "base_uri": "https://localhost:8080/",
          "height": 54
        },
        "outputId": "cfa0c720-89d7-4f7f-d180-b90e2c8e4182"
      },
      "cell_type": "code",
      "source": [
        "tweet.AsJsonString()"
      ],
      "execution_count": 63,
      "outputs": [
        {
          "output_type": "execute_result",
          "data": {
            "text/plain": [
              "'{\"created_at\": \"Fri Feb 22 00:57:33 +0000 2019\", \"favorite_count\": 4, \"full_text\": \"#SANDIEGO! Los Sandieganos salimos este #23F TODOS a la Av Bol\\\\u00edvar en respaldo a la #AyudaHumanitaria aqu\\\\u00ed nadie se rinde los Sandieganos NO est\\\\u00e1n solos #SiHayFuturo #carabobo #caracas #venezuela #valencia #naguanagua #chacao #elhatillo #baruta https://t.co/QedzFqB70a\", \"hashtags\": [{\"text\": \"SANDIEGO\"}, {\"text\": \"23F\"}, {\"text\": \"AyudaHumanitaria\"}, {\"text\": \"SiHayFuturo\"}, {\"text\": \"carabobo\"}, {\"text\": \"caracas\"}, {\"text\": \"venezuela\"}, {\"text\": \"valencia\"}, {\"text\": \"naguanagua\"}, {\"text\": \"chacao\"}, {\"text\": \"elhatillo\"}, {\"text\": \"baruta\"}], \"id\": 1098748596692926469, \"id_str\": \"1098748596692926469\", \"lang\": \"es\", \"media\": [{\"display_url\": \"pic.twitter.com/QedzFqB70a\", \"expanded_url\": \"https://twitter.com/DouglasJimenez/status/1098748596692926469/photo/1\", \"id\": 1098748444179607552, \"media_url\": \"http://pbs.twimg.com/media/Dz-J43jWsAAuVnC.jpg\", \"media_url_https\": \"https://pbs.twimg.com/media/Dz-J43jWsAAuVnC.jpg\", \"sizes\": {\"large\": {\"h\": 1080, \"resize\": \"fit\", \"w\": 1080}, \"medium\": {\"h\": 1080, \"resize\": \"fit\", \"w\": 1080}, \"small\": {\"h\": 680, \"resize\": \"fit\", \"w\": 680}, \"thumb\": {\"h\": 150, \"resize\": \"crop\", \"w\": 150}}, \"type\": \"photo\", \"url\": \"https://t.co/QedzFqB70a\"}], \"retweet_count\": 8, \"source\": \"<a href=\\\\\"http://twitter.com/download/android\\\\\" rel=\\\\\"nofollow\\\\\">Twitter for Android</a>\", \"urls\": [], \"user\": {\"id\": 91886336, \"id_str\": \"91886336\"}, \"user_mentions\": []}'"
            ]
          },
          "metadata": {
            "tags": []
          },
          "execution_count": 63
        }
      ]
    },
    {
      "metadata": {
        "id": "v7YOEET4DhEW",
        "colab_type": "code",
        "colab": {
          "base_uri": "https://localhost:8080/",
          "height": 34
        },
        "outputId": "9a812a64-be8e-4265-825f-293b5206aff7"
      },
      "cell_type": "code",
      "source": [
        "tweet.media"
      ],
      "execution_count": 64,
      "outputs": [
        {
          "output_type": "execute_result",
          "data": {
            "text/plain": [
              "[Media(ID=1098748444179607552, Type=photo, DisplayURL='pic.twitter.com/QedzFqB70a')]"
            ]
          },
          "metadata": {
            "tags": []
          },
          "execution_count": 64
        }
      ]
    },
    {
      "metadata": {
        "id": "QB_UhAbB9eMS",
        "colab_type": "code",
        "colab": {}
      },
      "cell_type": "code",
      "source": [
        "timeline=api.GetUserTimeline(screen_name='DouglasJimenez',max_id=1098748596692926469)"
      ],
      "execution_count": 0,
      "outputs": []
    },
    {
      "metadata": {
        "id": "_YKNRHrn-tQZ",
        "colab_type": "code",
        "colab": {
          "base_uri": "https://localhost:8080/",
          "height": 377
        },
        "outputId": "93ba5eba-2085-48a2-f112-5519c0f6c7e2"
      },
      "cell_type": "code",
      "source": [
        "timeline"
      ],
      "execution_count": 22,
      "outputs": [
        {
          "output_type": "execute_result",
          "data": {
            "text/plain": [
              "[Status(ID=1098748596692926469, ScreenName=DouglasJimenez, Created=Fri Feb 22 00:57:33 +0000 2019, Text='#SANDIEGO! Los Sandieganos salimos este #23F TODOS a la Av Bolívar en respaldo a la #AyudaHumanitaria aquí nadie se… https://t.co/pGvK2murAn'),\n",
              " Status(ID=1098730068732461056, ScreenName=DouglasJimenez, Created=Thu Feb 21 23:43:56 +0000 2019, Text='RT @AlbertoRodNews: ALERTA | Régimen de Maduro envía mensajes/amanezas a la gobernadora del estado Táchira, Laidy Gómez y su familia, pues…'),\n",
              " Status(ID=1098727102394830849, ScreenName=DouglasJimenez, Created=Thu Feb 21 23:32:09 +0000 2019, Text='RT @_CarlosRada_: El pollo Carvajal habla y a Maduro le salen más canas! Este si sabe y sabe más que pollo frito! #CaravanaHumanitaria'),\n",
              " Status(ID=1098697371322671105, ScreenName=DouglasJimenez, Created=Thu Feb 21 21:34:00 +0000 2019, Text='RT @prospericarlos: #21Feb junto a nuestros Diputados d @AsambleaVE apoyando el operativo de la #AyudaHumanitaria el 23 a las 9:00am nos ve…'),\n",
              " Status(ID=1098694058933923840, ScreenName=DouglasJimenez, Created=Thu Feb 21 21:20:51 +0000 2019, Text='RT @laidygomezf: #21Feb Encuentro del @gobiernotachira con representantes de la Sociedad Civil tachirense, evaluando logística  de #AyudaHu…'),\n",
              " Status(ID=1098694049958109185, ScreenName=DouglasJimenez, Created=Thu Feb 21 21:20:48 +0000 2019, Text='RT @laidygomezf: Gobernadora del Táchira en el #HospitalCentral  https://t.co/BD9tYLEw9b'),\n",
              " Status(ID=1098692993261936644, ScreenName=DouglasJimenez, Created=Thu Feb 21 21:16:36 +0000 2019, Text='RT @laidygomezf: #21Feb @GobiernoTachira anuncia que el día viernes 22 de febrero se  ha decretado DÍA NO LABORABLE, debido a la movilizaci…'),\n",
              " Status(ID=1098648910208339974, ScreenName=DouglasJimenez, Created=Thu Feb 21 18:21:26 +0000 2019, Text='RT @adbernabe: Fue retenido por órdenes del régimen @cleverlaraad, Secretario General @ADemocratica en Aragua. Tienen miedo porque saben qu…'),\n",
              " Status(ID=1098580499436589057, ScreenName=DouglasJimenez, Created=Thu Feb 21 13:49:36 +0000 2019, Text='RT @YessicaRMakeup: Los grandes objetivos, siempre se logran de la mano con un excelente equipo de trabajo. Aquí la muestra de ello. Nuestr…'),\n",
              " Status(ID=1098580477303234560, ScreenName=DouglasJimenez, Created=Thu Feb 21 13:49:31 +0000 2019, Text='RT @jguaido: Nuestro respaldo al gremio de Médicos y la gobernadora que han dejado muy claro la necesidad de la ayuda humanitaria y su comp…'),\n",
              " Status(ID=1098566010112798720, ScreenName=DouglasJimenez, Created=Thu Feb 21 12:52:01 +0000 2019, Text='INCREÍBLE PERO CIERTO!!!! LA GRAN #VALENCIA 6 DÍAS SIN AGUA CADA DÍA MAS EL TIC TAC TIC TAC AL USURPADOR ES MAS CRI… https://t.co/z2wqNJKkod'),\n",
              " Status(ID=1098405075897278464, ScreenName=DouglasJimenez, Created=Thu Feb 21 02:12:32 +0000 2019, Text='RT @diana_dagostino: Hoy el usurpador mostró nuevamente su indolencia cuando asistimos al Hospital Universitario a donar 100 colchones y pr…'),\n",
              " Status(ID=1098325730637811731, ScreenName=DouglasJimenez, Created=Wed Feb 20 20:57:14 +0000 2019, Text='RT @ivlevsilva: Hoy los militares tienen dos opciones  :\\n1) seguir hundiendo al país en miseria, por ser leales a la corrupcion  y la miser…'),\n",
              " Status(ID=1098300797245444096, ScreenName=DouglasJimenez, Created=Wed Feb 20 19:18:10 +0000 2019, Text='ATENCIÓN! El compañero Presidente @jguaido anunció que por las costas Carabobeñas entrará la #AyudaHumanitaria así… https://t.co/N0Z7B4r6CP'),\n",
              " Status(ID=1098299763538182145, ScreenName=DouglasJimenez, Created=Wed Feb 20 19:14:03 +0000 2019, Text='RT @OliverBlanco: Régimen usurpador y su esbirro en el hospital universitario Earle Siso prefiere negarle 100 camas a sus pacientes q admit…'),\n",
              " Status(ID=1097603548492251136, ScreenName=DouglasJimenez, Created=Mon Feb 18 21:07:33 +0000 2019, Text='RT @OliverBlanco: Urgente: Gobernadora del Tachira @laidygomezf se pronuncia junto a gremio médico de su estado para denunciar intención de…'),\n",
              " Status(ID=1097565709591298048, ScreenName=DouglasJimenez, Created=Mon Feb 18 18:37:11 +0000 2019, Text='RT @ADemocratica: #18Feb | Nuestra solidaridad con @LeopoldoLopez a 5 años de su injusto encarcelamiento, y con todos los presos políticos.…'),\n",
              " Status(ID=1097560324373471232, ScreenName=DouglasJimenez, Created=Mon Feb 18 18:15:47 +0000 2019, Text='RT @hramosallup: Hoy se cumplen 5 años desde que el régimen apresó arbitraria e injustamente a @LeopoldoLopez quien nunca debió estar encar…'),\n",
              " Status(ID=1097545573551521792, ScreenName=DouglasJimenez, Created=Mon Feb 18 17:17:10 +0000 2019, Text='@adbernabe @ADemocratica @hramosallup Oportuna aclaratoria, ya que muchos andan creando Mesías aquí en este partido… https://t.co/VjuqLzeMJm'),\n",
              " Status(ID=1097507485823496193, ScreenName=DouglasJimenez, Created=Mon Feb 18 14:45:49 +0000 2019, Text='RT @CASIGUIARE: IMPERDIBLE Pedro Carreño vs Henry Ramos allup se dan con todo.\\n\\nPARECE QUE LE DUELE MAS AL CHAVISMO AZUL, las palabras de H…')]"
            ]
          },
          "metadata": {
            "tags": []
          },
          "execution_count": 22
        }
      ]
    }
  ]
}