{
  "nbformat": 4,
  "nbformat_minor": 0,
  "metadata": {
    "colab": {
      "name": "PeaceViolencePredictor.ipynb",
      "version": "0.3.2",
      "provenance": []
    },
    "kernelspec": {
      "name": "python3",
      "display_name": "Python 3"
    }
  },
  "cells": [
    {
      "cell_type": "code",
      "metadata": {
        "id": "rngWp7igqHwv",
        "colab_type": "code",
        "colab": {}
      },
      "source": [
        "%reload_ext autoreload\n",
        "%autoreload 2\n",
        "%matplotlib inline"
      ],
      "execution_count": 0,
      "outputs": []
    },
    {
      "cell_type": "code",
      "metadata": {
        "id": "67XAY3_wqMdF",
        "colab_type": "code",
        "colab": {
          "base_uri": "https://localhost:8080/",
          "height": 211
        },
        "outputId": "dfe6e44b-5968-41a5-f883-6fb0448e69d5"
      },
      "source": [
        "!curl https://course-v3.fast.ai/setup/colab | bash\n",
        "\n",
        "from fastai import *\n",
        "from fastai.vision import *\n",
        "import numpy as np\n",
        "import matplotlib.pyplot as plt\n",
        "import os\n",
        "\n",
        "from google.colab import drive\n",
        "drive.mount('/content/drive', force_remount=True)\n",
        "root_dir = \"/content/gdrive/My Drive/\"\n",
        "base_dir = root_dir + 'fastai-v3/'"
      ],
      "execution_count": 2,
      "outputs": [
        {
          "output_type": "stream",
          "text": [
            "  % Total    % Received % Xferd  Average Speed   Time    Time     Time  Current\n",
            "                                 Dload  Upload   Total   Spent    Left  Speed\n",
            "\r  0     0    0     0    0     0      0      0 --:--:-- --:--:-- --:--:--     0\r100   287  100   287    0     0   1621      0 --:--:-- --:--:-- --:--:--  1621\n",
            "bash: line 1: syntax error near unexpected token `newline'\n",
            "bash: line 1: `<!DOCTYPE HTML PUBLIC \"-//IETF//DTD HTML 2.0//EN\">'\n",
            "Go to this URL in a browser: https://accounts.google.com/o/oauth2/auth?client_id=947318989803-6bn6qk8qdgf4n4g3pfee6491hc0brc4i.apps.googleusercontent.com&redirect_uri=urn%3Aietf%3Awg%3Aoauth%3A2.0%3Aoob&scope=email%20https%3A%2F%2Fwww.googleapis.com%2Fauth%2Fdocs.test%20https%3A%2F%2Fwww.googleapis.com%2Fauth%2Fdrive%20https%3A%2F%2Fwww.googleapis.com%2Fauth%2Fdrive.photos.readonly%20https%3A%2F%2Fwww.googleapis.com%2Fauth%2Fpeopleapi.readonly&response_type=code\n",
            "\n",
            "Enter your authorization code:\n",
            "··········\n",
            "Mounted at /content/drive\n"
          ],
          "name": "stdout"
        }
      ]
    },
    {
      "cell_type": "code",
      "metadata": {
        "id": "9itcOUPxqBiX",
        "colab_type": "code",
        "colab": {}
      },
      "source": [
        "path = Path('/content/drive/My Drive/HackathonProject/training_set/')\n",
        "path_test = Path('/content/drive/My Drive/HackathonProject/Test/')\n",
        "learn = load_learner(path)"
      ],
      "execution_count": 0,
      "outputs": []
    },
    {
      "cell_type": "code",
      "metadata": {
        "id": "U2ii_h4WqXxD",
        "colab_type": "code",
        "colab": {
          "base_uri": "https://localhost:8080/",
          "height": 347
        },
        "outputId": "7581d464-dddd-4a33-bfc5-0b456b3efa15"
      },
      "source": [
        "os.listdir(path_test)"
      ],
      "execution_count": 4,
      "outputs": [
        {
          "output_type": "execute_result",
          "data": {
            "text/plain": [
              "['433390036760158208_BgO18S3IgAEMR6X.jpg',\n",
              " '433390470824464384_BgO2Vj7IMAA_7HY.jpg',\n",
              " '433390436166955008_BgO2TixIQAAstb8.jpg',\n",
              " '433390763385581568_BgO2ml4IYAAGOyA.jpg',\n",
              " '433391004805120000_BgO2lipIgAE_AaA.jpg',\n",
              " '433390869719552000_BgONodvCcAAGbza.jpg',\n",
              " '433391072694120448_BgO24mkCMAAPIAf.jpg',\n",
              " '433391264935845888_BgO3DyuCIAERwTM.jpg',\n",
              " '433391624312594432_BgO3Ys8IQAAuIO2.jpg',\n",
              " '433391372637569024_BgO3KDgIMAAO-Wn.jpg',\n",
              " '433391825047408640_BgOicTYCcAA3-fe.jpg',\n",
              " '433391855703584768_BgO3SprIMAAfpd3.jpg',\n",
              " 'image1.jpg',\n",
              " 'image2.jpg',\n",
              " 'image3.jpg',\n",
              " 'image4.jpg',\n",
              " 'image5.jpg',\n",
              " 'image6.jpg',\n",
              " 'image7.jpg']"
            ]
          },
          "metadata": {
            "tags": []
          },
          "execution_count": 4
        }
      ]
    },
    {
      "cell_type": "code",
      "metadata": {
        "id": "AA8mSj0lqbK4",
        "colab_type": "code",
        "colab": {
          "base_uri": "https://localhost:8080/",
          "height": 347
        },
        "outputId": "37d529ee-2677-4b65-9d2f-7a2f2a80b6d5"
      },
      "source": [
        "learn = load_learner(path, test=ImageList.from_folder(path_test))\n",
        "preds,y = learn.get_preds(ds_type=DatasetType.Test)\n",
        "preds"
      ],
      "execution_count": 5,
      "outputs": [
        {
          "output_type": "execute_result",
          "data": {
            "text/plain": [
              "tensor([[9.9665e-01, 3.3507e-03],\n",
              "        [9.5705e-01, 4.2950e-02],\n",
              "        [7.4144e-02, 9.2586e-01],\n",
              "        [6.9361e-01, 3.0639e-01],\n",
              "        [9.1177e-01, 8.8233e-02],\n",
              "        [2.2843e-01, 7.7157e-01],\n",
              "        [9.9828e-01, 1.7167e-03],\n",
              "        [9.2180e-01, 7.8196e-02],\n",
              "        [6.4123e-01, 3.5877e-01],\n",
              "        [9.6919e-01, 3.0815e-02],\n",
              "        [5.1625e-01, 4.8375e-01],\n",
              "        [9.7969e-01, 2.0307e-02],\n",
              "        [7.8365e-01, 2.1635e-01],\n",
              "        [8.5029e-03, 9.9150e-01],\n",
              "        [4.7700e-03, 9.9523e-01],\n",
              "        [1.5929e-03, 9.9841e-01],\n",
              "        [1.5597e-02, 9.8440e-01],\n",
              "        [9.9908e-01, 9.1965e-04],\n",
              "        [9.9301e-01, 6.9926e-03]])"
            ]
          },
          "metadata": {
            "tags": []
          },
          "execution_count": 5
        }
      ]
    },
    {
      "cell_type": "code",
      "metadata": {
        "id": "hyTomJGhuqcl",
        "colab_type": "code",
        "colab": {}
      },
      "source": [
        "def plotPercentViolent(folderName):\n",
        "  \"\"\"function to plot the percent peaceful photos in a batch of images using the trained classifier created with resnet50\"\"\"\n",
        "  #path to the classifier:\n",
        "  classPath = Path('/content/drive/My Drive/HackathonProject/training_set/')\n",
        "  #path to the folder with the images:\n",
        "  path_test = Path('/content/drive/My Drive/HackathonProject/'+ folderName + '/')\n",
        "  #load the classifier into learn:\n",
        "  learn = load_learner(classPath, test=ImageList.from_folder(path_test))\n",
        "  #get predictions for all the images in the folder\n",
        "  preds,y = learn.get_preds(ds_type=DatasetType.Test)\n",
        "  #for debug purposes:\n",
        "  #print(preds)\n",
        "  #turn predictions into binary decision: 1 = peaceful, 0 = violent\n",
        "  predictions = preds[:,0]\n",
        "  #predictions = predictions.eval()\n",
        "  predictions = list(predictions)\n",
        "  #print(predictions)\n",
        "  x = []\n",
        "  for i in predictions:\n",
        "    \n",
        "    if i>.5: \n",
        "      print('Peaceful')\n",
        "      x.append(1)\n",
        "    else: \n",
        "      print('Violent')\n",
        "      x.append(0)\n",
        "  \n",
        "  print(x)\n",
        "  #define window:\n",
        "  wd = 5\n",
        "  winPred = []\n",
        "  #go through all images and extract a percent value for every 5 consecutive ones:\n",
        "  p = 0\n",
        "  while p+wd<=len(x):\n",
        "    winPred.append(sum(x[p:p+wd])/wd)\n",
        "    p += 1\n",
        "  plt.plot(winPred)\n",
        "  plt.xlabel('time')\n",
        "  plt.ylabel('percent peaceful images')\n",
        "    "
      ],
      "execution_count": 0,
      "outputs": []
    },
    {
      "cell_type": "code",
      "metadata": {
        "id": "EtEE-dka1D6y",
        "colab_type": "code",
        "colab": {
          "base_uri": "https://localhost:8080/",
          "height": 630
        },
        "outputId": "894fcb54-1efa-42a7-ba98-61c066e41fba"
      },
      "source": [
        "plotPercentViolent('Test')"
      ],
      "execution_count": 50,
      "outputs": [
        {
          "output_type": "stream",
          "text": [
            "Peaceful\n",
            "Peaceful\n",
            "Violent\n",
            "Peaceful\n",
            "Peaceful\n",
            "Violent\n",
            "Peaceful\n",
            "Peaceful\n",
            "Peaceful\n",
            "Peaceful\n",
            "Peaceful\n",
            "Peaceful\n",
            "Peaceful\n",
            "Violent\n",
            "Violent\n",
            "Violent\n",
            "Violent\n",
            "Peaceful\n",
            "Peaceful\n",
            "[1, 1, 0, 1, 1, 0, 1, 1, 1, 1, 1, 1, 1, 0, 0, 0, 0, 1, 1]\n"
          ],
          "name": "stdout"
        },
        {
          "output_type": "display_data",
          "data": {
            "image/png": "[encoded data removed]",
            "text/plain": [
              "<Figure size 432x288 with 1 Axes>"
            ]
          },
          "metadata": {
            "tags": []
          }
        }
      ]
    },
    {
      "cell_type": "code",
      "metadata": {
        "id": "NEpxnXcK35pR",
        "colab_type": "code",
        "colab": {
          "base_uri": "https://localhost:8080/",
          "height": 124
        },
        "outputId": "e781e3cc-2129-43a7-8b94-92e11ab62c8a"
      },
      "source": [
        "help(learn.get_preds)\n"
      ],
      "execution_count": 13,
      "outputs": [
        {
          "output_type": "stream",
          "text": [
            "Help on method get_preds in module fastai.basic_train:\n",
            "\n",
            "get_preds(ds_type:fastai.basic_data.DatasetType=<DatasetType.Valid: 2>, with_loss:bool=False, n_batch:Union[int, NoneType]=None, pbar:Union[fastprogress.fastprogress.MasterBar, fastprogress.fastprogress.ProgressBar, NoneType]=None) -> List[torch.Tensor] method of fastai.basic_train.Learner instance\n",
            "    Return predictions and targets on `ds_type` dataset.\n",
            "\n"
          ],
          "name": "stdout"
        }
      ]
    }
  ]
}