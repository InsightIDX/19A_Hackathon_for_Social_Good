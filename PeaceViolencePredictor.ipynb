{
  "nbformat": 4,
  "nbformat_minor": 0,
  "metadata": {
    "colab": {
      "name": "PeaceViolencePredictor.ipynb",
      "version": "0.3.2",
      "provenance": []
    },
    "kernelspec": {
      "name": "python3",
      "display_name": "Python 3"
    }
  },
  "cells": [
    {
      "cell_type": "code",
      "metadata": {
        "id": "rngWp7igqHwv",
        "colab_type": "code",
        "colab": {}
      },
      "source": [
        "%reload_ext autoreload\n",
        "%autoreload 2\n",
        "%matplotlib inline"
      ],
      "execution_count": 0,
      "outputs": []
    },
    {
      "cell_type": "code",
      "metadata": {
        "id": "67XAY3_wqMdF",
        "colab_type": "code",
        "colab": {
          "base_uri": "https://localhost:8080/",
          "height": 211
        },
        "outputId": "c6e51875-9e6a-40ca-842d-a2a173ad6b7e"
      },
      "source": [
        "!curl https://course-v3.fast.ai/setup/colab | bash\n",
        "\n",
        "from fastai import *\n",
        "from fastai.vision import *\n",
        "import numpy as np\n",
        "import matplotlib.pyplot as plt\n",
        "import os\n",
        "\n",
        "from google.colab import drive\n",
        "drive.mount('/content/drive', force_remount=True)\n",
        "root_dir = \"/content/gdrive/My Drive/\"\n",
        "base_dir = root_dir + 'fastai-v3/'"
      ],
      "execution_count": 2,
      "outputs": [
        {
          "output_type": "stream",
          "text": [
            "  % Total    % Received % Xferd  Average Speed   Time    Time     Time  Current\n",
            "                                 Dload  Upload   Total   Spent    Left  Speed\n",
            "100   287  100   287    0     0     50      0  0:00:05  0:00:05 --:--:--    91\n",
            "bash: line 1: syntax error near unexpected token `newline'\n",
            "bash: line 1: `<!DOCTYPE HTML PUBLIC \"-//IETF//DTD HTML 2.0//EN\">'\n",
            "Go to this URL in a browser: https://accounts.google.com/o/oauth2/auth?client_id=947318989803-6bn6qk8qdgf4n4g3pfee6491hc0brc4i.apps.googleusercontent.com&redirect_uri=urn%3Aietf%3Awg%3Aoauth%3A2.0%3Aoob&scope=email%20https%3A%2F%2Fwww.googleapis.com%2Fauth%2Fdocs.test%20https%3A%2F%2Fwww.googleapis.com%2Fauth%2Fdrive%20https%3A%2F%2Fwww.googleapis.com%2Fauth%2Fdrive.photos.readonly%20https%3A%2F%2Fwww.googleapis.com%2Fauth%2Fpeopleapi.readonly&response_type=code\n",
            "\n",
            "Enter your authorization code:\n",
            "··········\n",
            "Mounted at /content/drive\n"
          ],
          "name": "stdout"
        }
      ]
    },
    {
      "cell_type": "code",
      "metadata": {
        "id": "E1Rro07ZNH6f",
        "colab_type": "code",
        "colab": {
          "base_uri": "https://localhost:8080/",
          "height": 34
        },
        "outputId": "fa054686-aaa9-44f4-ab2a-7fefc0abaf3e"
      },
      "source": [
        "#path to test images folder:\n",
        "pathFolders = Path('/content/drive/My Drive/HackathonProject/TestFolders')\n",
        "path_test = '/content/drive/My Drive/HackathonProject/TestFolders/02-14'\n",
        "#check subfolders:\n",
        "subFolders = os.listdir(path_test)\n",
        "nr_folders = len(subFolders)\n",
        "print(nr_folders)"
      ],
      "execution_count": 8,
      "outputs": [
        {
          "output_type": "stream",
          "text": [
            "19\n"
          ],
          "name": "stdout"
        }
      ]
    },
    {
      "cell_type": "code",
      "metadata": {
        "id": "hyTomJGhuqcl",
        "colab_type": "code",
        "colab": {}
      },
      "source": [
        "def getPercentViolent(folderName):\n",
        "  \"\"\"function to return the percent peaceful photos in a batch of images using the trained classifier created with resnet50\"\"\"\n",
        "  \n",
        "  #path to the classifier:\n",
        "  classPath = Path('/content/drive/My Drive/HackathonProject/training_set/')\n",
        "  #path to the folder with the images:\n",
        "  pathFiles = Path('/content/drive/My Drive/HackathonProject/TestFolders/02-13/'+ folderName + '/')\n",
        "  #load the classifier into learn:\n",
        "  learn = load_learner(classPath, test=ImageList.from_folder(pathFiles))\n",
        "  print(pathFiles)\n",
        "  print(os.listdir(pathFiles))\n",
        "  \n",
        "  #get predictions for all the images in the folder\n",
        "  preds,y = learn.get_preds(ds_type=DatasetType.Test)\n",
        "  #for debug purposes:\n",
        "  #print(preds)\n",
        "  #turn predictions into binary decision: 1 = peaceful, 0 = violent\n",
        "  predictions = preds[:,0]\n",
        "  #predictions = predictions.eval()\n",
        "  predictions = list(predictions)\n",
        "  #print(predictions)\n",
        "  x = []\n",
        "  for i in predictions:\n",
        "    \n",
        "    if i>.5: \n",
        "      #print('Peaceful')\n",
        "      x.append(1)\n",
        "    else: \n",
        "      #print('Violent')\n",
        "      x.append(0)\n",
        "  \n",
        "  return sum(x)/len(x)\n",
        "  "
      ],
      "execution_count": 0,
      "outputs": []
    },
    {
      "cell_type": "markdown",
      "metadata": {
        "id": "EzkrFU6TCt2t",
        "colab_type": "text"
      },
      "source": [
        "I need to keep the folders in order, so I am working off a list of filenames instead of just reading the output of my os.listdir() function."
      ]
    },
    {
      "cell_type": "code",
      "metadata": {
        "id": "Kdmnm0fVIrQs",
        "colab_type": "code",
        "colab": {
          "base_uri": "https://localhost:8080/",
          "height": 34
        },
        "outputId": "e2931391-3cbc-46b2-f917-d161631ac08f"
      },
      "source": [
        "fName = ['00', '01','02', '03','04', '05','06', '07','08', '09','10', '11', '12', '13','14', '15', '16', '17','18', '19', '20', '21', '22', '23' ]\n",
        "timeLine = []\n",
        "for i in range(nr_folders):\n",
        "  p = getPercentViolent(fName[i])\n",
        "  print(p)\n",
        "  timeLine.append(p)"
      ],
      "execution_count": 11,
      "outputs": [
        {
          "output_type": "stream",
          "text": [
            "0.875\n"
          ],
          "name": "stdout"
        }
      ]
    },
    {
      "cell_type": "markdown",
      "metadata": {
        "id": "HnJPqOl_Ij8e",
        "colab_type": "text"
      },
      "source": [
        "Plotting the change in percentage of peaceful images tweeted over the hours of a day:\n",
        "    "
      ]
    },
    {
      "cell_type": "code",
      "metadata": {
        "id": "PZ7gFAkkw3Zw",
        "colab_type": "code",
        "colab": {
          "base_uri": "https://localhost:8080/",
          "height": 312
        },
        "outputId": "20d232f8-720a-477d-8024-9b3125966d0d"
      },
      "source": [
        "plt.plot(timeLine)\n",
        "plt.xlabel('time')\n",
        "plt.ylabel('percent peaceful images')\n",
        "plt.title('02-14')"
      ],
      "execution_count": 13,
      "outputs": [
        {
          "output_type": "execute_result",
          "data": {
            "text/plain": [
              "Text(0.5, 1.0, '02-14')"
            ]
          },
          "metadata": {
            "tags": []
          },
          "execution_count": 13
        },
        {
          "output_type": "display_data",
          "data": {
            "image/png": "[encoded data removed]",
            "text/plain": [
              "<Figure size 432x288 with 1 Axes>"
            ]
          },
          "metadata": {
            "tags": []
          }
        }
      ]
    },
    {
      "cell_type": "markdown",
      "metadata": {
        "id": "B6r7h84DDAQB",
        "colab_type": "text"
      },
      "source": [
        "Since I can plot data hourly for each day, here is another day plotted:"
      ]
    },
    {
      "cell_type": "code",
      "metadata": {
        "id": "QB0Gz7fU-Ns0",
        "colab_type": "code",
        "colab": {
          "base_uri": "https://localhost:8080/",
          "height": 34
        },
        "outputId": "8c07cf51-8903-4c37-c654-fcb2af095acd"
      },
      "source": [
        "path_test = '/content/drive/My Drive/HackathonProject/TestFolders/02-13'\n",
        "#check subfolders:\n",
        "subFolders = os.listdir(path_test)\n",
        "nr_folders = len(subFolders)\n",
        "print(nr_folders)"
      ],
      "execution_count": 14,
      "outputs": [
        {
          "output_type": "stream",
          "text": [
            "24\n"
          ],
          "name": "stdout"
        }
      ]
    },
    {
      "cell_type": "code",
      "metadata": {
        "id": "r-z5ea-i_CnE",
        "colab_type": "code",
        "colab": {
          "base_uri": "https://localhost:8080/",
          "height": 34
        },
        "outputId": "59be1600-699d-4ee0-fc24-c6263ccc6237"
      },
      "source": [
        "timeLine = []\n",
        "for i in range(nr_folders):\n",
        "  p = getPercentViolent(fName[i])\n",
        "  print(p)\n",
        "  timeLine.append(p)"
      ],
      "execution_count": 17,
      "outputs": [
        {
          "output_type": "stream",
          "text": [
            "0.75\n"
          ],
          "name": "stdout"
        }
      ]
    },
    {
      "cell_type": "code",
      "metadata": {
        "id": "Ybg1ZPxD_Kp1",
        "colab_type": "code",
        "colab": {
          "base_uri": "https://localhost:8080/",
          "height": 312
        },
        "outputId": "09c11ebc-d7c1-41ff-8026-a96fcf89d7e5"
      },
      "source": [
        "plt.plot(timeLine)\n",
        "plt.xlabel('time')\n",
        "plt.ylabel('percent peaceful images')\n",
        "plt.title('02-13')"
      ],
      "execution_count": 18,
      "outputs": [
        {
          "output_type": "execute_result",
          "data": {
            "text/plain": [
              "Text(0.5, 1.0, '02-13')"
            ]
          },
          "metadata": {
            "tags": []
          },
          "execution_count": 18
        },
        {
          "output_type": "display_data",
          "data": {
            "image/png": "[encoded data removed]",
            "text/plain": [
              "<Figure size 432x288 with 1 Axes>"
            ]
          },
          "metadata": {
            "tags": []
          }
        }
      ]
    },
    {
      "cell_type": "code",
      "metadata": {
        "id": "88bXI-gLHN05",
        "colab_type": "code",
        "colab": {}
      },
      "source": [
        ""
      ],
      "execution_count": 0,
      "outputs": []
    }
  ]
}